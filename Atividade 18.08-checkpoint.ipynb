{
 "cells": [
  {
   "cell_type": "markdown",
   "metadata": {},
   "source": [
    "In this notebook I will demonstarte how you can use barebones PyTorch to separate linearly inseparable toy **[sklearn.make_moons](https://scikit-learn.org/stable/modules/generated/sklearn.datasets.make_moons.html)** and **[sklearn.make_circles](https://scikit-learn.org/stable/modules/generated/sklearn.datasets.make_circles.html)** datasets."
   ]
  },
  {
   "cell_type": "markdown",
   "metadata": {},
   "source": [
    "First, let's make necessary imports:"
   ]
  },
  {
   "cell_type": "code",
   "execution_count": null,
   "metadata": {},
   "outputs": [],
   "source": [
    "import numpy as np\n",
    "import seaborn as sns\n",
    "from matplotlib import pyplot as plt\n",
    "\n",
    "from sklearn.datasets import make_moons, make_circles, make_blobs\n",
    "from sklearn.model_selection import train_test_split\n",
    "\n",
    "import torch\n",
    "from torch import nn\n",
    "from torch.nn import functional as F\n",
    "from torch.utils.data import TensorDataset, DataLoader\n",
    "from catalyst import utils\n",
    "\n",
    "sns.set(style=\"darkgrid\", font_scale=1.4)\n",
    "%config InlineBackend.figure_format = 'retina'"
   ]
  },
  {
   "cell_type": "markdown",
   "metadata": {},
   "source": [
    "## Logistic Regression"
   ]
  },
  {
   "cell_type": "markdown",
   "metadata": {},
   "source": [
    "Let's take a look at what happens in logistic regression. At the input we have a matrix object-attribute X and a column-vector $y$ - labels from $\\{0, 1\\}$ for each object. We want to find a matrix of weights $W$ and a bias $b$ that our model $XW + b$ will somehow predict the class of the object. As you can see in the output, our model can produce a number in the range from $(-\\infty;\\infty)$. This output is commonly referred to as \"logits\". We need to translate it to the interval from $[0; 1]$ in order for it to give us the probability of the object belonging to the first class, it is also better for this function to be monotonic, quickly calculated, have a derivative and on $-\\infty$ have the value $0$, on $+\\infty$ - $1$. This class of functions is called sigmoid. Most often we take as a sigmoid\n",
    "$$\n",
    "\\sigma(x) = \\frac{1}{1 + e^{-x}}.\n",
    "$$\n",
    "\n",
    "I will write a PyTorch module that implements $logits = XW + b$, where $W$ and $b$ are [parameters](https://pytorch.org/docs/stable/generated/torch.nn.parameter.Parameter.html) (`nn.Parameter`) of the model. In other words, here I implement the [module `nn.Linear`](https://pytorch.org/docs/stable/generated/torch.nn.Linear.html) with our own hands. I will initialize weights with normal distribution (`torch.randn`)."
   ]
  },
  {
   "cell_type": "code",
   "execution_count": null,
   "metadata": {},
   "outputs": [],
   "source": [
    "class LinearRegression(nn.Module):\n",
    "    def __init__(self, in_features: int, out_features: int, bias: bool = True):\n",
    "        super().__init__()\n",
    "        self.weights = nn.Parameter(torch.randn(in_features))\n",
    "        self.bias = bias\n",
    "        if bias:\n",
    "            self.bias_term = nn.Parameter(torch.randn(out_features))\n",
    "\n",
    "    def forward(self, x):\n",
    "        x = x @ self.weights # input x - multiplies input with weights\n",
    "        if self.bias:\n",
    "            x += self.bias_term # sum with bias_term\n",
    "        return x"
   ]
  },
  {
   "cell_type": "markdown",
   "metadata": {},
   "source": [
    "### Make Moons dataset\n",
    "\n",
    "Let's initialize `make_moons` dataset:"
   ]
  },
  {
   "cell_type": "code",
   "execution_count": null,
   "metadata": {},
   "outputs": [],
   "source": [
    "X, y = make_moons(n_samples=10000, random_state=42, noise=0.07)"
   ]
  },
  {
   "cell_type": "markdown",
   "metadata": {},
   "source": [
    "We can look at it in this way:"
   ]
  },
  {
   "cell_type": "code",
   "execution_count": null,
   "metadata": {},
   "outputs": [],
   "source": [
    "plt.figure(figsize=(16, 10))\n",
    "plt.title(\"Dataset\")\n",
    "plt.scatter(X[:, 0], X[:, 1], c=y, cmap=\"viridis\")\n",
    "plt.show()"
   ]
  },
  {
   "cell_type": "markdown",
   "metadata": {},
   "source": [
    "Before we proceed we will split the dataset into **train/validation**: **(train_test_split)**"
   ]
  },
  {
   "cell_type": "code",
   "execution_count": null,
   "metadata": {},
   "outputs": [],
   "source": [
    "train_x, test_x, train_y, test_y = train_test_split(X, y)"
   ]
  },
  {
   "cell_type": "markdown",
   "metadata": {},
   "source": [
    "Convert to `torch.tensor`: \n",
    "\n",
    "torch.from_numpy() *numpy to tensor*\n",
    "\n",
    ".to(torch.float32) *torch to torch.float32*"
   ]
  },
  {
   "cell_type": "code",
   "execution_count": null,
   "metadata": {},
   "outputs": [],
   "source": [
    "X_tensor = torch.from_numpy(train_x).to(torch.float32)\n",
    "y_tensor = torch.from_numpy(train_y).to(torch.float32)"
   ]
  },
  {
   "cell_type": "code",
   "execution_count": null,
   "metadata": {},
   "outputs": [],
   "source": [
    "X_test = torch.from_numpy(test_x).to(torch.float32)\n",
    "y_test = torch.from_numpy(test_y).to(torch.float32)"
   ]
  },
  {
   "cell_type": "markdown",
   "metadata": {},
   "source": [
    "And make `TensorDataset`'s from them:\n",
    "\n",
    "**TensorDataset()**: create a dataset pytorch\n",
    "\n",
    "**DataLoader()**: create batchs"
   ]
  },
  {
   "cell_type": "code",
   "execution_count": null,
   "metadata": {},
   "outputs": [],
   "source": [
    "train_dataset = TensorDataset(X_tensor, y_tensor)\n",
    "test_dataset = TensorDataset(X_test, y_test)"
   ]
  },
  {
   "cell_type": "code",
   "execution_count": null,
   "metadata": {},
   "outputs": [],
   "source": [
    "train_loader = DataLoader(train_dataset, batch_size = 100, num_workers=16)\n",
    "test_loader = DataLoader(test_dataset, batch_size = 100, num_workers=16)"
   ]
  },
  {
   "cell_type": "markdown",
   "metadata": {},
   "source": [
    "Now, as we prepared our data, we can define our model with `nn.Sequential`:"
   ]
  },
  {
   "cell_type": "code",
   "execution_count": null,
   "metadata": {},
   "outputs": [],
   "source": [
    "model = nn.Sequential(\n",
    "    LinearRegression(2, 1)\n",
    ")"
   ]
  },
  {
   "cell_type": "markdown",
   "metadata": {},
   "source": [
    "For loss function we will use [**`nn.BCEWithLogitsLoss`**](https://pytorch.org/docs/stable/generated/torch.nn.BCEWithLogitsLoss.html) - it combines a Sigmoid layer and the BCELoss (binary cross-entropy loss) in one single class. But you can use the nn.CrossEntropyLoss() with[`nn.CrossEntropyLoss()`](https://pytorch.org/docs/stable/generated/torch.nn.CrossEntropyLoss.html?highlight=crossentropyloss#torch.nn.CrossEntropyLoss) and [`nn.Softmax()`](https://pytorch.org/docs/stable/generated/torch.nn.Softmax.html?highlight=softmax#torch.nn.Softmax)."
   ]
  },
  {
   "cell_type": "code",
   "execution_count": null,
   "metadata": {},
   "outputs": [],
   "source": [
    "loss_function = nn.BCEWithLogitsLoss()"
   ]
  },
  {
   "cell_type": "markdown",
   "metadata": {},
   "source": [
    "For optimizer we will use **Stochastic gradient descent** with learning rate = 0.05.\n",
    "\n",
    "`torch.optim.SGD()`"
   ]
  },
  {
   "cell_type": "code",
   "execution_count": null,
   "metadata": {},
   "outputs": [],
   "source": [
    "optimizer = torch.optim.SGD(model.parameters(), 0.05)"
   ]
  },
  {
   "cell_type": "markdown",
   "metadata": {},
   "source": [
    "### Train loop\n",
    "\n",
    "Here is some pseudo code to help you figure out what happens during training:\n",
    "\n",
    "```python\n",
    "for epoch in range(max_epochs):  # <----------- iterate over the dataset several times\n",
    "    for x_batch, y_batch in dataset:  # <------ iterate over the dataset. Since we use SGD and not GD, we take batches of a given size\n",
    "        optimizer.zero_grad()  # <------------- zero out the gradients of the model\n",
    "        outp = model(x_batch)  # <------------- get \"logits\" from the model\n",
    "        loss = loss_func(outp, y_batch)  # <--- calculate \"loss\" for logistic regression\n",
    "        loss.backward()  # <------------------- calculate gradients\n",
    "        optimizer.step()  # <------------------ do a gradient descent step\n",
    "        if convergence:  # <------------------- in case of convergence, exit the cycle\n",
    "            break\n",
    "```\n",
    "\n",
    "Our actual training function will look like this:"
   ]
  },
  {
   "cell_type": "code",
   "execution_count": null,
   "metadata": {
    "scrolled": true
   },
   "outputs": [],
   "source": [
    "def train(model, epochs):\n",
    "    losses = []\n",
    "    max_epochs = epochs\n",
    "    stop_it = False\n",
    "    for epoch in range(max_epochs):\n",
    "        utils.set_global_seed(42 + epoch)\n",
    "        for it, (X_batch, y_batch) in enumerate(train_loader):\n",
    "            optimizer.zero_grad()\n",
    "            outp = model(X_batch)\n",
    "            loss = loss_function(outp.flatten(), y_batch)\n",
    "            loss.backward()\n",
    "            losses.append(loss.detach().flatten()[0])\n",
    "            optimizer.step()\n",
    "            probabilities = torch.sigmoid(outp)\n",
    "            preds = (probabilities>0.5).type(torch.long)\n",
    "    return model, losses"
   ]
  },
  {
   "cell_type": "code",
   "execution_count": null,
   "metadata": {},
   "outputs": [],
   "source": [
    "model, losses = train(model, 10)"
   ]
  },
  {
   "cell_type": "markdown",
   "metadata": {},
   "source": [
    "### Loss\n",
    "\n",
    "Next important step is to **plot loss function**:"
   ]
  },
  {
   "cell_type": "code",
   "execution_count": null,
   "metadata": {},
   "outputs": [],
   "source": [
    "def show_loss(losses):\n",
    "    plt.figure(figsize=(12, 8))\n",
    "    plt.plot(range(len(losses)), losses)\n",
    "    plt.xlabel(\"Iteration\")\n",
    "    plt.ylabel(\"Loss\")\n",
    "    plt.show()"
   ]
  },
  {
   "cell_type": "code",
   "execution_count": null,
   "metadata": {},
   "outputs": [],
   "source": [
    "show_loss(losses)"
   ]
  },
  {
   "cell_type": "markdown",
   "metadata": {},
   "source": [
    "### Visualizing\n",
    "\n",
    "With neat playing with matplotlib we can visualize the separation between classes in two zones: \n",
    "\n",
    "**Optional**"
   ]
  },
  {
   "cell_type": "code",
   "execution_count": null,
   "metadata": {},
   "outputs": [],
   "source": [
    "def show_separation(model, save=False, name_to_save=\"\"):\n",
    "    sns.set(style=\"white\")\n",
    "\n",
    "    xx, yy = np.mgrid[-1.5:2.5:.01, -1.:1.5:.01]\n",
    "    grid = np.c_[xx.ravel(), yy.ravel()]\n",
    "    batch = torch.from_numpy(grid).type(torch.float32)\n",
    "    with torch.no_grad():\n",
    "        probs = torch.sigmoid(model(batch).reshape(xx.shape))\n",
    "        probs = probs.numpy().reshape(xx.shape)\n",
    "\n",
    "    f, ax = plt.subplots(figsize=(16, 10))\n",
    "    ax.set_title(\"Decision boundary\", fontsize=14)\n",
    "    contour = ax.contourf(xx, yy, probs, 25, cmap=\"RdBu\",\n",
    "                          vmin=0, vmax=1)\n",
    "    ax_c = f.colorbar(contour)\n",
    "    ax_c.set_label(\"$P(y = 1)$\")\n",
    "    ax_c.set_ticks([0, .25, .5, .75, 1])\n",
    "\n",
    "    ax.scatter(X[100:,0], X[100:, 1], c=y[100:], s=50,\n",
    "               cmap=\"RdBu\", vmin=-.2, vmax=1.2,\n",
    "               edgecolor=\"white\", linewidth=1)\n",
    "\n",
    "    ax.set(xlabel=\"$X_1$\", ylabel=\"$X_2$\")\n",
    "    if save:\n",
    "        plt.savefig(name_to_save)\n",
    "    else:\n",
    "        plt.show()"
   ]
  },
  {
   "cell_type": "code",
   "execution_count": null,
   "metadata": {},
   "outputs": [],
   "source": [
    "show_separation(model)"
   ]
  },
  {
   "cell_type": "markdown",
   "metadata": {},
   "source": [
    "We got what we expected - **two \"zones\"**. Logistic regression module did the best it could. We can measure the accuracy of the model, but first we have to define `predict` function:"
   ]
  },
  {
   "cell_type": "code",
   "execution_count": null,
   "metadata": {},
   "outputs": [],
   "source": [
    "@torch.no_grad()\n",
    "def predict(dataloader, model):\n",
    "    model.eval()\n",
    "    predictions = np.array([])\n",
    "    for x_batch, _ in dataloader:\n",
    "        outp = model(x_batch)\n",
    "        probs = torch.sigmoid(outp)\n",
    "        preds = (probs > 0.5).type(torch.long)\n",
    "        predictions = np.hstack((predictions, preds.numpy().flatten()))\n",
    "    predictions = predictions\n",
    "    return predictions.flatten()"
   ]
  },
  {
   "cell_type": "code",
   "execution_count": null,
   "metadata": {},
   "outputs": [],
   "source": [
    "prediction = predict(test_loader, model)"
   ]
  },
  {
   "cell_type": "markdown",
   "metadata": {},
   "source": [
    "**Accuracy**"
   ]
  },
  {
   "cell_type": "code",
   "execution_count": null,
   "metadata": {},
   "outputs": [],
   "source": [
    "from sklearn.metrics import accuracy_score"
   ]
  },
  {
   "cell_type": "code",
   "execution_count": null,
   "metadata": {},
   "outputs": [],
   "source": [
    "print(accuracy_score(test_y, prediction))"
   ]
  },
  {
   "cell_type": "markdown",
   "metadata": {},
   "source": [
    "### Simple Neural Network\n",
    "\n",
    "For better result however we need something a little more complex. Again we will use `nn.Sequential` to make our model. This time it contains three `nn.Linear` layers and two activation functions. We will use the same loss function and optimizer:"
   ]
  },
  {
   "cell_type": "code",
   "execution_count": null,
   "metadata": {},
   "outputs": [],
   "source": [
    "model = nn.Sequential(\n",
    "    nn.Linear(2, 30),\n",
    "    nn.ReLU(),\n",
    "    nn.Linear(30, 20),\n",
    "    nn.ReLU(),\n",
    "    nn.Linear(20, 1)\n",
    ")"
   ]
  },
  {
   "cell_type": "markdown",
   "metadata": {},
   "source": [
    "Train 30 epochs and show results:"
   ]
  },
  {
   "cell_type": "code",
   "execution_count": null,
   "metadata": {},
   "outputs": [],
   "source": [
    "model, losses = train(model, 30)"
   ]
  },
  {
   "cell_type": "code",
   "execution_count": null,
   "metadata": {},
   "outputs": [],
   "source": [
    "show_loss(losses)"
   ]
  },
  {
   "cell_type": "markdown",
   "metadata": {},
   "source": [
    "This is much better. We can see the **accuracy is almost 100%**"
   ]
  },
  {
   "cell_type": "code",
   "execution_count": null,
   "metadata": {},
   "outputs": [],
   "source": [
    "prediction = predict(test_loader, model)"
   ]
  },
  {
   "cell_type": "code",
   "execution_count": null,
   "metadata": {},
   "outputs": [],
   "source": [
    "print(accuracy_score(test_y, prediction))"
   ]
  },
  {
   "cell_type": "markdown",
   "metadata": {},
   "source": [
    "### Make Circles Dataset\n",
    "\n",
    "For demonstrative purposes we can do the same for **`make_circles`** dataset"
   ]
  },
  {
   "cell_type": "code",
   "execution_count": null,
   "metadata": {},
   "outputs": [],
   "source": []
  },
  {
   "cell_type": "code",
   "execution_count": null,
   "metadata": {},
   "outputs": [],
   "source": []
  },
  {
   "cell_type": "code",
   "execution_count": null,
   "metadata": {},
   "outputs": [],
   "source": []
  },
  {
   "cell_type": "code",
   "execution_count": null,
   "metadata": {},
   "outputs": [],
   "source": []
  },
  {
   "cell_type": "code",
   "execution_count": null,
   "metadata": {},
   "outputs": [],
   "source": []
  },
  {
   "cell_type": "code",
   "execution_count": null,
   "metadata": {},
   "outputs": [],
   "source": []
  },
  {
   "cell_type": "code",
   "execution_count": null,
   "metadata": {},
   "outputs": [],
   "source": []
  },
  {
   "cell_type": "code",
   "execution_count": null,
   "metadata": {},
   "outputs": [],
   "source": []
  },
  {
   "cell_type": "markdown",
   "metadata": {},
   "source": [
    "[Blog post](https://blog.neuralpony.com/2019/06/17/simple-sklearn-datasets/)"
   ]
  }
 ],
 "metadata": {
  "kernelspec": {
   "display_name": "Python 3 (ipykernel)",
   "language": "python",
   "name": "python3"
  },
  "language_info": {
   "codemirror_mode": {
    "name": "ipython",
    "version": 3
   },
   "file_extension": ".py",
   "mimetype": "text/x-python",
   "name": "python",
   "nbconvert_exporter": "python",
   "pygments_lexer": "ipython3",
   "version": "3.10.4"
  },
  "vscode": {
   "interpreter": {
    "hash": "916dbcbb3f70747c44a77c7bcd40155683ae19c65e1c03b4aa3499c5328201f1"
   }
  }
 },
 "nbformat": 4,
 "nbformat_minor": 4
}
