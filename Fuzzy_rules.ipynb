{
 "cells": [
  {
   "cell_type": "markdown",
   "id": "0c5d5d3f",
   "metadata": {},
   "source": [
    "# Documentação fuzzylite"
   ]
  },
  {
   "cell_type": "markdown",
   "id": "f50ad182",
   "metadata": {},
   "source": [
    "https://fuzzylite.github.io/fuzzylite/?q=documentation\n",
    "\n",
    "pip install pyfuzzylite"
   ]
  },
  {
   "cell_type": "markdown",
   "id": "78e986aa",
   "metadata": {},
   "source": [
    "# Mandami"
   ]
  },
  {
   "cell_type": "markdown",
   "id": "a284a10b",
   "metadata": {},
   "source": [
    "## Dimmer Controller"
   ]
  },
  {
   "cell_type": "code",
   "execution_count": 1,
   "id": "8d080426",
   "metadata": {},
   "outputs": [],
   "source": [
    "import fuzzylite as fl\n",
    "import numpy as np\n",
    "\n",
    "#Declaring and Initializing the Fuzzy Engine\n",
    "engine = fl.Engine(\n",
    "    name=\"SimpleDimmer\", \n",
    "    description=\"Simple Dimmer Fuzzy System which dims light based upon Light Conditions\"\n",
    ")\n",
    "\n",
    "#Defining the Input Variables (Fuzzification)\n",
    "engine.input_variables = [\n",
    "    fl.InputVariable(\n",
    "        name=\"Ambient\",\n",
    "        description=\"\",\n",
    "        enabled=True,\n",
    "        minimum=0.000,\n",
    "        maximum=1.000,\n",
    "        lock_range=False,\n",
    "        terms=[\n",
    "            fl.Triangle(\"DARK\", 0.000, 0.250, 0.500), #Triangular Membership Function defining \"Dark\"\n",
    "            fl.Triangle(\"MEDIUM\", 0.250, 0.500, 0.750), #Triangular Membership Function defining \"Medium\"\n",
    "            fl.Triangle(\"BRIGHT\", 0.500, 0.750, 1.000) #Triangular Membership Function defining \"Bright\"\n",
    "        ]\n",
    "    )\n",
    "]\n",
    "\n",
    "#Defining the Output Variables (Defuzzification)\n",
    "engine.output_variables = [\n",
    "    fl.OutputVariable(\n",
    "        name=\"Power\",\n",
    "        description=\"\",\n",
    "        enabled=True,\n",
    "        minimum=0.000,\n",
    "        maximum=1.000,\n",
    "        lock_range=False,\n",
    "        aggregation=fl.Maximum(),\n",
    "        defuzzifier=fl.Centroid(200),\n",
    "        lock_previous=False,\n",
    "        terms=[\n",
    "            fl.Triangle(\"LOW\", 0.000, 0.250, 0.500), #Triangular Membership Function defining \"LOW Light\"\n",
    "            fl.Triangle(\"MEDIUM\", 0.250, 0.500, 0.750), #Triangular Membership Function defining \"MEDIUM light\"\n",
    "            fl.Triangle(\"HIGH\", 0.500, 0.750, 1.000) #Triangular Membership Function defining \"HIGH Light\"\n",
    "        ]\n",
    "    )\n",
    "]\n",
    "\n",
    "#Creation of Fuzzy Rule Base\n",
    "engine.rule_blocks = [\n",
    "    fl.RuleBlock(\n",
    "        name=\"\",\n",
    "        description=\"\",\n",
    "        enabled=True,\n",
    "        conjunction=fl.Minimum(),\n",
    "        disjunction=fl.Maximum(),\n",
    "        implication=fl.Minimum(),\n",
    "        activation=fl.General(),\n",
    "        rules=[\n",
    "            fl.Rule.create(\"if Ambient is DARK then Power is HIGH\", engine),\n",
    "            fl.Rule.create(\"if Ambient is MEDIUM then Power is MEDIUM\", engine),\n",
    "            fl.Rule.create(\"if Ambient is BRIGHT then Power is LOW\",engine)\n",
    "        ]\n",
    "    )\n",
    "]"
   ]
  },
  {
   "cell_type": "code",
   "execution_count": 2,
   "id": "63236eea",
   "metadata": {},
   "outputs": [],
   "source": [
    "x = np.linspace(0.01,0.99,50)\n",
    "\n",
    "entrada_iluminacao = engine.input_variable(\"Ambient\")\n",
    "potencia_iluminacao = engine.output_variable(\"Power\")\n",
    "saida_potencia = []\n",
    "\n",
    "for i in x:\n",
    "  entrada_iluminacao.value = i\n",
    "  engine.process()\n",
    "  saida_potencia.append(potencia_iluminacao.value)"
   ]
  },
  {
   "cell_type": "code",
   "execution_count": 3,
   "id": "17f70234",
   "metadata": {},
   "outputs": [
    {
     "data": {
      "image/png": "[encoded data removed]",
      "text/plain": [
       "<Figure size 432x288 with 1 Axes>"
      ]
     },
     "metadata": {
      "needs_background": "light"
     },
     "output_type": "display_data"
    }
   ],
   "source": [
    "import matplotlib.pyplot as plt\n",
    "\n",
    "plt.plot(x, saida_potencia)\n",
    "plt.grid()"
   ]
  },
  {
   "cell_type": "markdown",
   "id": "0b35e8c0",
   "metadata": {},
   "source": [
    "# Takagi Sugeno Kang Fuzzy Inference System"
   ]
  },
  {
   "cell_type": "code",
   "execution_count": 61,
   "id": "8899e792",
   "metadata": {},
   "outputs": [],
   "source": [
    "import fuzzylite as fl\n",
    "#Declaring and Initializing the Fuzzy Engine\n",
    "engine = fl.Engine(\n",
    "    name=\"SimpleDimmer\",\n",
    "    description=\"Simple Dimmer Fuzzy System which dims light based upon Light       Conditions\"\n",
    ")\n",
    "#Defining the Input Variables (Fuzzification)\n",
    "engine.input_variables = [\n",
    "    fl.InputVariable(\n",
    "        name=\"Ambient\",\n",
    "        description=\"\",\n",
    "        enabled=True,\n",
    "        minimum=0.000,\n",
    "        maximum=1.000,\n",
    "        lock_range=False,\n",
    "        terms=[\n",
    "            fl.Triangle(\"DARK\", 0.000, 0.250, 0.500), #Triangular Membership Function defining “Dark”\n",
    "            fl.Triangle(\"MEDIUM\", 0.250, 0.500, 0.750), #Triangular Membership Function defining “Medium”\n",
    "            fl.Triangle(\"BRIGHT\", 0.500, 0.750, 1.000) #Triangular Membership Function defining “Bright”\n",
    "        ]\n",
    "    )\n",
    "]\n",
    "#Defining the Output Variables (Defuzzification)\n",
    "engine.output_variables = [\n",
    "    fl.OutputVariable(\n",
    "        name=\"Power\",\n",
    "        description=\"\",\n",
    "        enabled=True,\n",
    "        minimum=0.000,\n",
    "        maximum=1.000,\n",
    "        lock_range=False,\n",
    "        aggregation=None,\n",
    "        defuzzifier=fl.WeightedAverage(\"TakagiSugeno\"),\n",
    "        lock_previous=False,\n",
    "        terms=[\n",
    "            fl.Constant(\"LOW\", 0.250), #Constant Membership Function defining “LOW”\n",
    "            fl.Constant(\"MEDIUM\", 0.500), #Constant Membership Function defining “MEDIUM”\n",
    "            fl.Constant(\"HIGH\", 0.750) #Constant Membership Function defining “HIGH”\n",
    "        ]\n",
    "    )\n",
    "]\n",
    "\n",
    "#Creation of Fuzzy Rule Base\n",
    "engine.rule_blocks = [\n",
    "    fl.RuleBlock(\n",
    "        name=\"\",\n",
    "        description=\"\",\n",
    "        enabled=True,\n",
    "        conjunction=None,\n",
    "        disjunction=None,\n",
    "        implication=None,\n",
    "        activation=fl.General(),\n",
    "        rules=[\n",
    "            fl.Rule.create(\"if Ambient is DARK then Power is HIGH\", engine),\n",
    "            fl.Rule.create(\"if Ambient is MEDIUM then Power is MEDIUM\", engine),\n",
    "            fl.Rule.create(\"if Ambient is BRIGHT then Power is LOW\", engine)\n",
    "        ]\n",
    "    )\n",
    "]"
   ]
  },
  {
   "cell_type": "code",
   "execution_count": 62,
   "id": "31abb997",
   "metadata": {},
   "outputs": [],
   "source": [
    "x = np.linspace(0.01,0.99,50)\n",
    "entrada_iluminacao = engine.input_variable(\"Ambient\")\n",
    "potencia_iluminacao = engine.output_variable(\"Power\")\n",
    "saida_potencia = []\n",
    "for i in x:\n",
    "  entrada_iluminacao.value = i\n",
    "  engine.process()\n",
    "  saida_potencia.append(potencia_iluminacao.value)"
   ]
  },
  {
   "cell_type": "code",
   "execution_count": 49,
   "id": "5b38d487",
   "metadata": {},
   "outputs": [
    {
     "data": {
      "text/plain": [
       "[<matplotlib.lines.Line2D at 0x1dc24a536d0>]"
      ]
     },
     "execution_count": 49,
     "metadata": {},
     "output_type": "execute_result"
    },
    {
     "data": {
      "image/png": "[encoded data removed]",
      "text/plain": [
       "<Figure size 432x288 with 1 Axes>"
      ]
     },
     "metadata": {
      "needs_background": "light"
     },
     "output_type": "display_data"
    }
   ],
   "source": [
    "import matplotlib.pyplot as plt\n",
    "plt.plot(x,saida_potencia)"
   ]
  },
  {
   "cell_type": "code",
   "execution_count": null,
   "id": "f723d8ed",
   "metadata": {},
   "outputs": [],
   "source": []
  }
 ],
 "metadata": {
  "kernelspec": {
   "display_name": "Python 3 (ipykernel)",
   "language": "python",
   "name": "python3"
  },
  "language_info": {
   "codemirror_mode": {
    "name": "ipython",
    "version": 3
   },
   "file_extension": ".py",
   "mimetype": "text/x-python",
   "name": "python",
   "nbconvert_exporter": "python",
   "pygments_lexer": "ipython3",
   "version": "3.9.12"
  }
 },
 "nbformat": 4,
 "nbformat_minor": 5
}
