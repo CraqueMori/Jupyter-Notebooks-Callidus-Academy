{
 "cells": [
  {
   "cell_type": "markdown",
   "id": "bca17e39",
   "metadata": {},
   "source": [
    "<h1>\n",
    "    <center>\n",
    "        Multi-Class Classification Tutorial with the Keras Deep Learning Library"
   ]
  },
  {
   "cell_type": "markdown",
   "id": "22a059ab",
   "metadata": {},
   "source": [
    "Click [here](https://machinelearningmastery.com/multi-class-classification-tutorial-keras-deep-learning-library/) to find the original page of this tutorial"
   ]
  },
  {
   "cell_type": "markdown",
   "id": "36bcb619",
   "metadata": {},
   "source": [
    "Keras is a Python library for deep learning that wraps the efficient numerical libraries Theano and TensorFlow.\n",
    "\n",
    "In this tutorial, you will discover how to use Keras to develop and evaluate neural network models for multi-class classification problems.\n",
    "\n",
    "After completing this step-by-step tutorial, you will know:\n",
    "\n",
    "*    How to load data from CSV and make it available to Keras\n",
    "*    How to prepare multi-class classification data for modeling with neural networks\n",
    "*    How to evaluate Keras neural network models with scikit-learn\n",
    "\n",
    "Kick-start your project with my new book Deep Learning With Python, including step-by-step tutorials and the Python source code files for all examples."
   ]
  },
  {
   "cell_type": "markdown",
   "id": "e45145a5",
   "metadata": {},
   "source": [
    "# Problem Description"
   ]
  },
  {
   "cell_type": "markdown",
   "id": "87f352f8",
   "metadata": {},
   "source": [
    "In this tutorial, you will use the standard machine learning problem called the iris flowers dataset.\n",
    "\n",
    "This dataset is well studied and makes a good problem for practicing on neural networks because all four input variables are numeric and have the same scale in centimeters. Each instance describes the properties of an observed flower’s measurements, and the output variable is a specific iris species.\n",
    "\n",
    "This is a multi-class classification problem, meaning that there are more than two classes to be predicted. In fact, there are three flower species. This is an important problem for practicing with neural networks because the three class values require specialized handling.\n",
    "\n",
    "The iris flower dataset is a well-studied problem, and as such, you can expect to achieve a model accuracy in the range of 95% to 97%. This provides a good target to aim for when developing your models.\n",
    "\n",
    "You can [download the iris flowers dataset](https://archive.ics.uci.edu/ml/machine-learning-databases/iris/iris.data) from the UCI Machine Learning repository and place it in your current working directory with the filename “iris.csv“."
   ]
  },
  {
   "cell_type": "markdown",
   "id": "e5bdcac6",
   "metadata": {},
   "source": [
    "# Import Classes and functions"
   ]
  },
  {
   "cell_type": "markdown",
   "id": "b98c29e7",
   "metadata": {},
   "source": [
    "You can begin by importing all the classes and functions you will need in this tutorial.\n",
    "\n",
    "This includes both the functionality you require from Keras and the data loading from pandas, as well as data preparation and model evaluation from scikit-learn.\n",
    "```python\n",
    "import pandas\n",
    "import numpy as np\n",
    "from keras.models import Sequential\n",
    "from keras.layers import Dense, Dropout\n",
    "from keras.wrappers.scikit_learn import KerasClassifier\n",
    "from keras.utils import np_utils\n",
    "from sklearn.model_selection import cross_val_score\n",
    "from sklearn.model_selection import KFold\n",
    "from sklearn.preprocessing import LabelEncoder\n",
    "from sklearn.pipeline import Pipeline\n",
    "from sklearn.model_selection import train_test_split\n",
    "from sklearn.preprocessing import MinMaxScaler\n",
    "from sklearn.metrics import confusion_matrix\n",
    "import seaborn as sns\n",
    "import matplotlib.pyplot as plt\n",
    "```"
   ]
  },
  {
   "cell_type": "code",
   "execution_count": 1,
   "id": "d0079726",
   "metadata": {},
   "outputs": [
    {
     "name": "stderr",
     "output_type": "stream",
     "text": [
      "2022-08-26 19:18:24.910493: I tensorflow/core/util/util.cc:169] oneDNN custom operations are on. You may see slightly different numerical results due to floating-point round-off errors from different computation orders. To turn them off, set the environment variable `TF_ENABLE_ONEDNN_OPTS=0`.\n",
      "2022-08-26 19:18:24.913368: W tensorflow/stream_executor/platform/default/dso_loader.cc:64] Could not load dynamic library 'libcudart.so.11.0'; dlerror: libcudart.so.11.0: cannot open shared object file: No such file or directory\n",
      "2022-08-26 19:18:24.913375: I tensorflow/stream_executor/cuda/cudart_stub.cc:29] Ignore above cudart dlerror if you do not have a GPU set up on your machine.\n"
     ]
    }
   ],
   "source": [
    "import pandas\n",
    "import numpy as np\n",
    "from keras.models import Sequential\n",
    "from keras.layers import Dense, Dropout\n",
    "from keras.wrappers.scikit_learn import KerasClassifier\n",
    "from keras.utils import np_utils\n",
    "from sklearn.model_selection import cross_val_score\n",
    "from sklearn.model_selection import KFold\n",
    "from sklearn.preprocessing import LabelEncoder\n",
    "from sklearn.pipeline import Pipeline\n",
    "from sklearn.model_selection import train_test_split\n",
    "from sklearn.preprocessing import MinMaxScaler\n",
    "from sklearn.metrics import confusion_matrix\n",
    "import seaborn as sns\n",
    "import matplotlib.pyplot as plt"
   ]
  },
  {
   "cell_type": "markdown",
   "id": "78e4cd9a",
   "metadata": {},
   "source": [
    "# Load the Dataset"
   ]
  },
  {
   "cell_type": "markdown",
   "id": "51e2de27",
   "metadata": {},
   "source": [
    "The dataset can be loaded directly. Because the output variable contains strings, it is easiest to load the data using pandas. You can then split the attributes (columns) into input variables (X) and output variables (Y).\n",
    "\n",
    "```python\n",
    "dataframe = pandas.read_csv(\"iris.csv\", header=None)\n",
    "dataset = dataframe.values\n",
    "X = dataset[:,0:4].astype(float)\n",
    "Y = dataset[:,4]\n",
    "\n",
    "```"
   ]
  },
  {
   "cell_type": "code",
   "execution_count": 2,
   "id": "60bf7129",
   "metadata": {},
   "outputs": [],
   "source": [
    "dataframe = pandas.read_csv(\"iris.csv\", header=None)\n",
    "dataset = dataframe.values\n",
    "X = dataset[:,0:4].astype(float)\n",
    "Y = dataset[:,4]"
   ]
  },
  {
   "cell_type": "code",
   "execution_count": 3,
   "id": "9cc9d11b",
   "metadata": {},
   "outputs": [
    {
     "data": {
      "text/html": [
       "<div>\n",
       "<style scoped>\n",
       "    .dataframe tbody tr th:only-of-type {\n",
       "        vertical-align: middle;\n",
       "    }\n",
       "\n",
       "    .dataframe tbody tr th {\n",
       "        vertical-align: top;\n",
       "    }\n",
       "\n",
       "    .dataframe thead th {\n",
       "        text-align: right;\n",
       "    }\n",
       "</style>\n",
       "<table border=\"1\" class=\"dataframe\">\n",
       "  <thead>\n",
       "    <tr style=\"text-align: right;\">\n",
       "      <th></th>\n",
       "      <th>0</th>\n",
       "      <th>1</th>\n",
       "      <th>2</th>\n",
       "      <th>3</th>\n",
       "      <th>4</th>\n",
       "    </tr>\n",
       "  </thead>\n",
       "  <tbody>\n",
       "    <tr>\n",
       "      <th>0</th>\n",
       "      <td>5.1</td>\n",
       "      <td>3.5</td>\n",
       "      <td>1.4</td>\n",
       "      <td>0.2</td>\n",
       "      <td>Iris-setosa</td>\n",
       "    </tr>\n",
       "    <tr>\n",
       "      <th>1</th>\n",
       "      <td>4.9</td>\n",
       "      <td>3.0</td>\n",
       "      <td>1.4</td>\n",
       "      <td>0.2</td>\n",
       "      <td>Iris-setosa</td>\n",
       "    </tr>\n",
       "    <tr>\n",
       "      <th>2</th>\n",
       "      <td>4.7</td>\n",
       "      <td>3.2</td>\n",
       "      <td>1.3</td>\n",
       "      <td>0.2</td>\n",
       "      <td>Iris-setosa</td>\n",
       "    </tr>\n",
       "    <tr>\n",
       "      <th>3</th>\n",
       "      <td>4.6</td>\n",
       "      <td>3.1</td>\n",
       "      <td>1.5</td>\n",
       "      <td>0.2</td>\n",
       "      <td>Iris-setosa</td>\n",
       "    </tr>\n",
       "    <tr>\n",
       "      <th>4</th>\n",
       "      <td>5.0</td>\n",
       "      <td>3.6</td>\n",
       "      <td>1.4</td>\n",
       "      <td>0.2</td>\n",
       "      <td>Iris-setosa</td>\n",
       "    </tr>\n",
       "  </tbody>\n",
       "</table>\n",
       "</div>"
      ],
      "text/plain": [
       "     0    1    2    3            4\n",
       "0  5.1  3.5  1.4  0.2  Iris-setosa\n",
       "1  4.9  3.0  1.4  0.2  Iris-setosa\n",
       "2  4.7  3.2  1.3  0.2  Iris-setosa\n",
       "3  4.6  3.1  1.5  0.2  Iris-setosa\n",
       "4  5.0  3.6  1.4  0.2  Iris-setosa"
      ]
     },
     "execution_count": 3,
     "metadata": {},
     "output_type": "execute_result"
    }
   ],
   "source": [
    "dataframe.head()"
   ]
  },
  {
   "cell_type": "code",
   "execution_count": 4,
   "id": "922fddc4",
   "metadata": {},
   "outputs": [
    {
     "name": "stdout",
     "output_type": "stream",
     "text": [
      "Measurements = [5.1 3.5 1.4 0.2] - Species = Iris-setosa\n",
      "Measurements = [4.9 3.  1.4 0.2] - Species = Iris-setosa\n",
      "Measurements = [4.7 3.2 1.3 0.2] - Species = Iris-setosa\n",
      "Measurements = [4.6 3.1 1.5 0.2] - Species = Iris-setosa\n",
      "Measurements = [5.  3.6 1.4 0.2] - Species = Iris-setosa\n"
     ]
    }
   ],
   "source": [
    "for i in range(0, 5):\n",
    "    print(f'Measurements = {X[i]} - Species = {Y[i]}')"
   ]
  },
  {
   "cell_type": "markdown",
   "id": "9f4e92e9",
   "metadata": {},
   "source": [
    "# Encode the Output Variable"
   ]
  },
  {
   "cell_type": "markdown",
   "id": "7abfac10",
   "metadata": {},
   "source": [
    "The output variable contains three different string values.\n",
    "\n",
    "When modeling multi-class classification problems using neural networks, it is good practice to reshape the output attribute from a vector that contains values for each class value to a matrix with a Boolean for each class value and whether a given instance has that class value or not.\n",
    "\n",
    "This is called one-hot encoding or creating dummy variables from a categorical variable.\n",
    "\n",
    "For example, in this problem, three class values are Iris-setosa, Iris-versicolor, and Iris-virginica. If you had the observations:\n",
    "\n",
    "* Iris-setosa\n",
    "* Iris-versicolor\n",
    "* Iris-virginica\n",
    "\n",
    "You can turn this into a one-hot encoded binary matrix for each data instance that would look like this:\n",
    "\n",
    "Iris-setosa | Iris-versicolor |\tIris-virginica\n",
    "------------|-----------------|----------------    \n",
    "1|0|0\n",
    "0|1|0\n",
    "0|0|1\n",
    "     \n",
    "You can first encode the strings consistently to integers using the scikit-learn class LabelEncoder. Then convert the vector of integers to a one-hot encoding using the Keras function to_categorical().\n",
    "\n",
    "```python\n",
    "# encode class values as integers\n",
    "encoder = LabelEncoder()\n",
    "encoder.fit(Y)\n",
    "encoded_Y = encoder.transform(Y)\n",
    "# convert integers to dummy variables (i.e. one hot encoded)\n",
    "dummy_y = np_utils.to_categorical(encoded_Y)\n",
    "```"
   ]
  },
  {
   "cell_type": "code",
   "execution_count": 5,
   "id": "a2a936a9",
   "metadata": {},
   "outputs": [],
   "source": [
    "encoder = LabelEncoder()\n",
    "encoder.fit(Y)\n",
    "encoded_Y = encoder.transform(Y)\n",
    "# convert integers to dummy variables (i.e. one hot encoded)\n",
    "dummy_y = np_utils.to_categorical(encoded_Y)"
   ]
  },
  {
   "cell_type": "code",
   "execution_count": 6,
   "id": "ba30bd7d",
   "metadata": {},
   "outputs": [
    {
     "name": "stdout",
     "output_type": "stream",
     "text": [
      "Encoded = 0 - Binary Vector = [1. 0. 0.]\n",
      "Encoded = 0 - Binary Vector = [1. 0. 0.]\n",
      "Encoded = 0 - Binary Vector = [1. 0. 0.]\n",
      "Encoded = 0 - Binary Vector = [1. 0. 0.]\n",
      "Encoded = 0 - Binary Vector = [1. 0. 0.]\n",
      "Encoded = 1 - Binary Vector = [0. 1. 0.]\n",
      "Encoded = 1 - Binary Vector = [0. 1. 0.]\n",
      "Encoded = 1 - Binary Vector = [0. 1. 0.]\n",
      "Encoded = 1 - Binary Vector = [0. 1. 0.]\n",
      "Encoded = 1 - Binary Vector = [0. 1. 0.]\n",
      "Encoded = 2 - Binary Vector = [0. 0. 1.]\n",
      "Encoded = 2 - Binary Vector = [0. 0. 1.]\n",
      "Encoded = 2 - Binary Vector = [0. 0. 1.]\n",
      "Encoded = 2 - Binary Vector = [0. 0. 1.]\n",
      "Encoded = 2 - Binary Vector = [0. 0. 1.]\n"
     ]
    }
   ],
   "source": [
    "for i in range(0, len(encoded_Y), 10):\n",
    "    print(f'Encoded = {encoded_Y[i]} - Binary Vector = {dummy_y[i]}')"
   ]
  },
  {
   "cell_type": "markdown",
   "id": "62fdc1b3",
   "metadata": {},
   "source": [
    "## Data preparation"
   ]
  },
  {
   "cell_type": "markdown",
   "id": "1a01ed19",
   "metadata": {},
   "source": [
    "### Splitting the dataset into a training set and a test set\n",
    "\n",
    "```python\n",
    "X_train, X_test, y_train, y_test = train_test_split(X, dummy_y,\n",
    "                                test_size = 0.2, random_state = 0)\n",
    "```"
   ]
  },
  {
   "cell_type": "code",
   "execution_count": 7,
   "id": "c55ab901",
   "metadata": {},
   "outputs": [],
   "source": [
    "X_train, X_test, y_train, y_test = train_test_split(X, dummy_y, test_size = 0.2, random_state = 0)"
   ]
  },
  {
   "cell_type": "code",
   "execution_count": 8,
   "id": "5c54cf35",
   "metadata": {},
   "outputs": [
    {
     "name": "stdout",
     "output_type": "stream",
     "text": [
      "Training data\n",
      "Input [6.4 3.1 5.5 1.8] - Output [0. 0. 1.]\n",
      "Input [5.4 3.  4.5 1.5] - Output [0. 1. 0.]\n",
      "Input [5.2 3.5 1.5 0.2] - Output [1. 0. 0.]\n",
      "Input [6.1 3.  4.9 1.8] - Output [0. 0. 1.]\n",
      "Input [6.4 2.8 5.6 2.2] - Output [0. 0. 1.]\n",
      "\n",
      "Testing data\n",
      "Input [5.8 2.8 5.1 2.4] - Output [0. 0. 1.]\n",
      "Input [6.  2.2 4.  1. ] - Output [0. 1. 0.]\n",
      "Input [5.5 4.2 1.4 0.2] - Output [1. 0. 0.]\n",
      "Input [7.3 2.9 6.3 1.8] - Output [0. 0. 1.]\n",
      "Input [5.  3.4 1.5 0.2] - Output [1. 0. 0.]\n"
     ]
    }
   ],
   "source": [
    "print('Training data')\n",
    "for i in range(5):\n",
    "    print(f'Input {X_train[i]} - Output {y_train[i]}')\n",
    "\n",
    "print('')\n",
    "print('Testing data')\n",
    "for i in range(5):\n",
    "    print(f'Input {X_test[i]} - Output {y_test[i]}')\n",
    "    "
   ]
  },
  {
   "cell_type": "markdown",
   "id": "776f5519",
   "metadata": {},
   "source": [
    "### Scaling the features\n",
    "```python\n",
    "xscaler = MinMaxScaler(feature_range = (0,1))\n",
    "X_train = xscaler.fit_transform(X_train)\n",
    "X_test  = xscaler.transform(X_test)\n",
    "```"
   ]
  },
  {
   "cell_type": "code",
   "execution_count": 9,
   "id": "d44092fd",
   "metadata": {},
   "outputs": [],
   "source": [
    "xscaler = MinMaxScaler(feature_range = (0,1))\n",
    "X_train = xscaler.fit_transform(X_train)\n",
    "X_test  = xscaler.transform(X_test)"
   ]
  },
  {
   "cell_type": "code",
   "execution_count": 10,
   "id": "e8c766e7",
   "metadata": {},
   "outputs": [
    {
     "name": "stdout",
     "output_type": "stream",
     "text": [
      "Training data\n",
      "Input [0.58333333 0.45833333 0.75862069 0.70833333] - Output [0. 0. 1.]\n",
      "Input [0.30555556 0.41666667 0.5862069  0.58333333] - Output [0. 1. 0.]\n",
      "Input [0.25       0.625      0.06896552 0.04166667] - Output [1. 0. 0.]\n",
      "Input [0.5        0.41666667 0.65517241 0.70833333] - Output [0. 0. 1.]\n",
      "Input [0.58333333 0.33333333 0.77586207 0.875     ] - Output [0. 0. 1.]\n",
      "\n",
      "Testing data\n",
      "Input [0.41666667 0.33333333 0.68965517 0.95833333] - Output [0. 0. 1.]\n",
      "Input [0.47222222 0.08333333 0.5        0.375     ] - Output [0. 1. 0.]\n",
      "Input [0.33333333 0.91666667 0.05172414 0.04166667] - Output [1. 0. 0.]\n",
      "Input [0.83333333 0.375      0.89655172 0.70833333] - Output [0. 0. 1.]\n",
      "Input [0.19444444 0.58333333 0.06896552 0.04166667] - Output [1. 0. 0.]\n"
     ]
    }
   ],
   "source": [
    "print('Training data')\n",
    "for i in range(5):\n",
    "    print(f'Input {X_train[i]} - Output {y_train[i]}')\n",
    "\n",
    "print('')\n",
    "print('Testing data')\n",
    "for i in range(5):\n",
    "    print(f'Input {X_test[i]} - Output {y_test[i]}')\n",
    "    "
   ]
  },
  {
   "cell_type": "markdown",
   "id": "d66eeff2",
   "metadata": {},
   "source": [
    "# Define the Neural Network Model"
   ]
  },
  {
   "cell_type": "markdown",
   "id": "af820add",
   "metadata": {},
   "source": [
    "If you are new to Keras or deep learning, see this helpful Keras tutorial.\n",
    "\n",
    "The Keras library provides wrapper classes to allow you to use neural network models developed with Keras in scikit-learn.\n",
    "\n",
    "There is a KerasClassifier class in Keras that can be used as an Estimator in scikit-learn, the base type of model in the library. The KerasClassifier takes the name of a function as an argument. This function must return the constructed neural network model, ready for training.\n",
    "\n",
    "Below is a function that will create a baseline neural network for the iris classification problem. It creates a simple, fully connected network with one hidden layer that contains eight neurons.\n",
    "\n",
    "The hidden layer uses a rectifier activation function which is a good practice. Because you used a one-hot encoding for your iris dataset, the output layer must create three output values, one for each class. The output value with the largest value will be taken as the class predicted by the model.\n",
    "\n",
    "The network topology of this simple one-layer neural network can be summarized as follows:\n",
    "\n",
    "<center>\n",
    "4 inputs -> [8 hidden nodes] -> 3 outputs\n",
    "</center>\n",
    "    \n",
    "Note that a “softmax” activation function was used in the output layer. This ensures the output values are in the range of 0 and 1 and may be used as predicted probabilities.\n",
    "\n",
    "Finally, the network uses the efficient Adam gradient descent optimization algorithm with a logarithmic loss function, which is called “categorical_crossentropy” in Keras.\n",
    "```python\n",
    "# define baseline model\n",
    "def baseline_model():\n",
    "    # create model\n",
    "    model = Sequential()\n",
    "    model.add(Dense(8, input_dim=4, activation='relu'))\n",
    "    model.add(Dense(3, activation='softmax'))\n",
    "    # Compile model\n",
    "    model.compile(loss='categorical_crossentropy'\n",
    "                  , optimizer='adam'\n",
    "                  , metrics=['accuracy'])\n",
    "    return model\n",
    "```"
   ]
  },
  {
   "cell_type": "code",
   "execution_count": 19,
   "id": "c83b281a",
   "metadata": {},
   "outputs": [],
   "source": [
    "# define baseline model\n",
    "def baseline_model():\n",
    "    # create model\n",
    "    model = Sequential()\n",
    "    model.add(Dense(8, input_dim=4, activation='relu'))\n",
    "    model.add(Dense(3, activation='softmax'))\n",
    "    #model.add(Dropout(rate = 0.1))\n",
    "    # Compile model\n",
    "    model.compile(loss='categorical_crossentropy'\n",
    "                  , optimizer='adam'\n",
    "                  , metrics=['accuracy'])\n",
    "    return model"
   ]
  },
  {
   "cell_type": "markdown",
   "id": "d33290d9",
   "metadata": {},
   "source": [
    "You can now create your KerasClassifier for use in scikit-learn.\n",
    "\n",
    "You can also pass arguments in the construction of the KerasClassifier class that will be passed on to the fit() function internally used to train the neural network. Here, you pass the number of epochs as 200 and batch size as 5 to use when training the model. Debugging is also turned off when training by setting verbose to 0.\n",
    "\n",
    "```python\n",
    "model = baseline_model()\n",
    "model.fit(\n",
    "    X_train, y_train,\n",
    "    batch_size=1,\n",
    "    epochs=150,\n",
    "    validation_data = (X_test, y_test),\n",
    "    shuffle=True,\n",
    "    workers=16,\n",
    "    use_multiprocessing=True,\n",
    "    verbose = 2\n",
    ")\n",
    "```"
   ]
  },
  {
   "cell_type": "code",
   "execution_count": 20,
   "id": "1cff3c90",
   "metadata": {},
   "outputs": [
    {
     "name": "stdout",
     "output_type": "stream",
     "text": [
      "Epoch 1/200\n",
      "24/24 - 0s - loss: 1.0137 - accuracy: 0.3667 - val_loss: 1.3138 - val_accuracy: 0.2000 - 215ms/epoch - 9ms/step\n",
      "Epoch 2/200\n",
      "24/24 - 0s - loss: 0.9861 - accuracy: 0.3667 - val_loss: 1.3563 - val_accuracy: 0.2000 - 22ms/epoch - 913us/step\n",
      "Epoch 3/200\n",
      "24/24 - 0s - loss: 0.9602 - accuracy: 0.3667 - val_loss: 1.3917 - val_accuracy: 0.2000 - 21ms/epoch - 859us/step\n",
      "Epoch 4/200\n",
      "24/24 - 0s - loss: 0.9370 - accuracy: 0.3750 - val_loss: 1.4127 - val_accuracy: 0.2000 - 23ms/epoch - 946us/step\n",
      "Epoch 5/200\n",
      "24/24 - 0s - loss: 0.9168 - accuracy: 0.4333 - val_loss: 1.4473 - val_accuracy: 0.2000 - 20ms/epoch - 853us/step\n",
      "Epoch 6/200\n",
      "24/24 - 0s - loss: 0.8986 - accuracy: 0.4917 - val_loss: 1.4915 - val_accuracy: 0.2000 - 22ms/epoch - 896us/step\n",
      "Epoch 7/200\n",
      "24/24 - 0s - loss: 0.8821 - accuracy: 0.6250 - val_loss: 1.5466 - val_accuracy: 0.2000 - 22ms/epoch - 898us/step\n",
      "Epoch 8/200\n",
      "24/24 - 0s - loss: 0.8669 - accuracy: 0.6667 - val_loss: 1.6159 - val_accuracy: 0.2000 - 22ms/epoch - 905us/step\n",
      "Epoch 9/200\n",
      "24/24 - 0s - loss: 0.8536 - accuracy: 0.6667 - val_loss: 1.7027 - val_accuracy: 0.2000 - 22ms/epoch - 933us/step\n",
      "Epoch 10/200\n",
      "24/24 - 0s - loss: 0.8391 - accuracy: 0.6667 - val_loss: 1.7510 - val_accuracy: 0.2000 - 22ms/epoch - 925us/step\n",
      "Epoch 11/200\n",
      "24/24 - 0s - loss: 0.8262 - accuracy: 0.6917 - val_loss: 1.8073 - val_accuracy: 0.2000 - 23ms/epoch - 960us/step\n",
      "Epoch 12/200\n",
      "24/24 - 0s - loss: 0.8130 - accuracy: 0.6917 - val_loss: 1.8845 - val_accuracy: 0.2000 - 21ms/epoch - 894us/step\n",
      "Epoch 13/200\n",
      "24/24 - 0s - loss: 0.8002 - accuracy: 0.6917 - val_loss: 1.9688 - val_accuracy: 0.2000 - 22ms/epoch - 926us/step\n",
      "Epoch 14/200\n",
      "24/24 - 0s - loss: 0.7878 - accuracy: 0.6917 - val_loss: 2.0220 - val_accuracy: 0.2000 - 22ms/epoch - 931us/step\n",
      "Epoch 15/200\n",
      "24/24 - 0s - loss: 0.7759 - accuracy: 0.6917 - val_loss: 2.1069 - val_accuracy: 0.2000 - 22ms/epoch - 934us/step\n",
      "Epoch 16/200\n",
      "24/24 - 0s - loss: 0.7639 - accuracy: 0.6917 - val_loss: 2.1593 - val_accuracy: 0.2000 - 23ms/epoch - 948us/step\n",
      "Epoch 17/200\n",
      "24/24 - 0s - loss: 0.7519 - accuracy: 0.6917 - val_loss: 2.1881 - val_accuracy: 0.2000 - 22ms/epoch - 922us/step\n",
      "Epoch 18/200\n",
      "24/24 - 0s - loss: 0.7396 - accuracy: 0.6917 - val_loss: 2.2616 - val_accuracy: 0.2000 - 22ms/epoch - 901us/step\n",
      "Epoch 19/200\n",
      "24/24 - 0s - loss: 0.7282 - accuracy: 0.6917 - val_loss: 2.3570 - val_accuracy: 0.2000 - 21ms/epoch - 889us/step\n",
      "Epoch 20/200\n",
      "24/24 - 0s - loss: 0.7169 - accuracy: 0.6917 - val_loss: 2.4116 - val_accuracy: 0.2000 - 21ms/epoch - 878us/step\n",
      "Epoch 21/200\n",
      "24/24 - 0s - loss: 0.7059 - accuracy: 0.6917 - val_loss: 2.4237 - val_accuracy: 0.2000 - 22ms/epoch - 900us/step\n",
      "Epoch 22/200\n",
      "24/24 - 0s - loss: 0.6944 - accuracy: 0.6917 - val_loss: 2.5057 - val_accuracy: 0.2000 - 21ms/epoch - 878us/step\n",
      "Epoch 23/200\n",
      "24/24 - 0s - loss: 0.6845 - accuracy: 0.6917 - val_loss: 2.5965 - val_accuracy: 0.2000 - 21ms/epoch - 876us/step\n",
      "Epoch 24/200\n",
      "24/24 - 0s - loss: 0.6731 - accuracy: 0.6917 - val_loss: 2.6149 - val_accuracy: 0.2000 - 21ms/epoch - 858us/step\n",
      "Epoch 25/200\n",
      "24/24 - 0s - loss: 0.6631 - accuracy: 0.6917 - val_loss: 2.6766 - val_accuracy: 0.2000 - 20ms/epoch - 849us/step\n",
      "Epoch 26/200\n",
      "24/24 - 0s - loss: 0.6529 - accuracy: 0.6917 - val_loss: 2.7523 - val_accuracy: 0.2000 - 22ms/epoch - 897us/step\n",
      "Epoch 27/200\n",
      "24/24 - 0s - loss: 0.6430 - accuracy: 0.6917 - val_loss: 2.8132 - val_accuracy: 0.2000 - 21ms/epoch - 877us/step\n",
      "Epoch 28/200\n",
      "24/24 - 0s - loss: 0.6335 - accuracy: 0.6917 - val_loss: 2.9243 - val_accuracy: 0.2000 - 21ms/epoch - 862us/step\n",
      "Epoch 29/200\n",
      "24/24 - 0s - loss: 0.6244 - accuracy: 0.6917 - val_loss: 2.9830 - val_accuracy: 0.2000 - 21ms/epoch - 874us/step\n",
      "Epoch 30/200\n",
      "24/24 - 0s - loss: 0.6155 - accuracy: 0.6917 - val_loss: 3.0663 - val_accuracy: 0.2000 - 21ms/epoch - 894us/step\n",
      "Epoch 31/200\n",
      "24/24 - 0s - loss: 0.6065 - accuracy: 0.6917 - val_loss: 3.1194 - val_accuracy: 0.2000 - 22ms/epoch - 913us/step\n",
      "Epoch 32/200\n",
      "24/24 - 0s - loss: 0.5984 - accuracy: 0.6917 - val_loss: 3.2280 - val_accuracy: 0.2000 - 21ms/epoch - 871us/step\n",
      "Epoch 33/200\n",
      "24/24 - 0s - loss: 0.5897 - accuracy: 0.6917 - val_loss: 3.2785 - val_accuracy: 0.2000 - 23ms/epoch - 945us/step\n",
      "Epoch 34/200\n",
      "24/24 - 0s - loss: 0.5819 - accuracy: 0.6917 - val_loss: 3.3737 - val_accuracy: 0.2000 - 21ms/epoch - 878us/step\n",
      "Epoch 35/200\n",
      "24/24 - 0s - loss: 0.5747 - accuracy: 0.6917 - val_loss: 3.4412 - val_accuracy: 0.2000 - 20ms/epoch - 842us/step\n",
      "Epoch 36/200\n",
      "24/24 - 0s - loss: 0.5676 - accuracy: 0.6917 - val_loss: 3.5005 - val_accuracy: 0.2000 - 24ms/epoch - 983us/step\n",
      "Epoch 37/200\n",
      "24/24 - 0s - loss: 0.5598 - accuracy: 0.6917 - val_loss: 3.6080 - val_accuracy: 0.2000 - 23ms/epoch - 947us/step\n",
      "Epoch 38/200\n",
      "24/24 - 0s - loss: 0.5531 - accuracy: 0.6917 - val_loss: 3.6932 - val_accuracy: 0.2000 - 22ms/epoch - 907us/step\n",
      "Epoch 39/200\n",
      "24/24 - 0s - loss: 0.5466 - accuracy: 0.6917 - val_loss: 3.7866 - val_accuracy: 0.2000 - 22ms/epoch - 918us/step\n",
      "Epoch 40/200\n",
      "24/24 - 0s - loss: 0.5403 - accuracy: 0.6917 - val_loss: 3.8415 - val_accuracy: 0.2000 - 21ms/epoch - 876us/step\n",
      "Epoch 41/200\n",
      "24/24 - 0s - loss: 0.5344 - accuracy: 0.6917 - val_loss: 3.8780 - val_accuracy: 0.2000 - 21ms/epoch - 859us/step\n",
      "Epoch 42/200\n",
      "24/24 - 0s - loss: 0.5289 - accuracy: 0.6917 - val_loss: 3.9979 - val_accuracy: 0.2000 - 21ms/epoch - 862us/step\n",
      "Epoch 43/200\n",
      "24/24 - 0s - loss: 0.5235 - accuracy: 0.6917 - val_loss: 4.1054 - val_accuracy: 0.2000 - 22ms/epoch - 896us/step\n",
      "Epoch 44/200\n",
      "24/24 - 0s - loss: 0.5182 - accuracy: 0.7000 - val_loss: 4.0783 - val_accuracy: 0.2000 - 21ms/epoch - 861us/step\n",
      "Epoch 45/200\n",
      "24/24 - 0s - loss: 0.5126 - accuracy: 0.7000 - val_loss: 4.2025 - val_accuracy: 0.2000 - 21ms/epoch - 877us/step\n",
      "Epoch 46/200\n",
      "24/24 - 0s - loss: 0.5075 - accuracy: 0.7000 - val_loss: 4.3068 - val_accuracy: 0.2000 - 21ms/epoch - 870us/step\n",
      "Epoch 47/200\n",
      "24/24 - 0s - loss: 0.5039 - accuracy: 0.7000 - val_loss: 4.4390 - val_accuracy: 0.2000 - 22ms/epoch - 897us/step\n",
      "Epoch 48/200\n",
      "24/24 - 0s - loss: 0.4988 - accuracy: 0.7083 - val_loss: 4.4299 - val_accuracy: 0.2000 - 21ms/epoch - 877us/step\n",
      "Epoch 49/200\n",
      "24/24 - 0s - loss: 0.4938 - accuracy: 0.7167 - val_loss: 4.4825 - val_accuracy: 0.2000 - 22ms/epoch - 911us/step\n",
      "Epoch 50/200\n",
      "24/24 - 0s - loss: 0.4900 - accuracy: 0.7167 - val_loss: 4.6492 - val_accuracy: 0.2000 - 21ms/epoch - 892us/step\n",
      "Epoch 51/200\n",
      "24/24 - 0s - loss: 0.4850 - accuracy: 0.7167 - val_loss: 4.6680 - val_accuracy: 0.2000 - 21ms/epoch - 883us/step\n",
      "Epoch 52/200\n",
      "24/24 - 0s - loss: 0.4819 - accuracy: 0.7167 - val_loss: 4.6584 - val_accuracy: 0.2000 - 20ms/epoch - 850us/step\n",
      "Epoch 53/200\n",
      "24/24 - 0s - loss: 0.4776 - accuracy: 0.7167 - val_loss: 4.8241 - val_accuracy: 0.2000 - 22ms/epoch - 918us/step\n",
      "Epoch 54/200\n",
      "24/24 - 0s - loss: 0.4735 - accuracy: 0.7167 - val_loss: 4.8815 - val_accuracy: 0.2000 - 22ms/epoch - 918us/step\n",
      "Epoch 55/200\n",
      "24/24 - 0s - loss: 0.4720 - accuracy: 0.7167 - val_loss: 5.0321 - val_accuracy: 0.2000 - 22ms/epoch - 899us/step\n",
      "Epoch 56/200\n",
      "24/24 - 0s - loss: 0.4667 - accuracy: 0.7417 - val_loss: 4.9989 - val_accuracy: 0.2000 - 21ms/epoch - 856us/step\n",
      "Epoch 57/200\n",
      "24/24 - 0s - loss: 0.4632 - accuracy: 0.7417 - val_loss: 5.0965 - val_accuracy: 0.2000 - 20ms/epoch - 853us/step\n",
      "Epoch 58/200\n",
      "24/24 - 0s - loss: 0.4604 - accuracy: 0.7500 - val_loss: 5.1407 - val_accuracy: 0.2000 - 20ms/epoch - 845us/step\n",
      "Epoch 59/200\n",
      "24/24 - 0s - loss: 0.4567 - accuracy: 0.7500 - val_loss: 5.2374 - val_accuracy: 0.2000 - 21ms/epoch - 867us/step\n",
      "Epoch 60/200\n",
      "24/24 - 0s - loss: 0.4536 - accuracy: 0.7583 - val_loss: 5.2965 - val_accuracy: 0.2000 - 21ms/epoch - 874us/step\n",
      "Epoch 61/200\n",
      "24/24 - 0s - loss: 0.4514 - accuracy: 0.7583 - val_loss: 5.3362 - val_accuracy: 0.2000 - 21ms/epoch - 891us/step\n",
      "Epoch 62/200\n",
      "24/24 - 0s - loss: 0.4479 - accuracy: 0.7583 - val_loss: 5.4919 - val_accuracy: 0.2000 - 21ms/epoch - 881us/step\n",
      "Epoch 63/200\n",
      "24/24 - 0s - loss: 0.4448 - accuracy: 0.7583 - val_loss: 5.5781 - val_accuracy: 0.2000 - 20ms/epoch - 841us/step\n",
      "Epoch 64/200\n",
      "24/24 - 0s - loss: 0.4424 - accuracy: 0.7583 - val_loss: 5.6562 - val_accuracy: 0.2000 - 21ms/epoch - 871us/step\n",
      "Epoch 65/200\n",
      "24/24 - 0s - loss: 0.4393 - accuracy: 0.7583 - val_loss: 5.6292 - val_accuracy: 0.2000 - 22ms/epoch - 903us/step\n",
      "Epoch 66/200\n"
     ]
    },
    {
     "name": "stdout",
     "output_type": "stream",
     "text": [
      "24/24 - 0s - loss: 0.4381 - accuracy: 0.7583 - val_loss: 5.6655 - val_accuracy: 0.2000 - 21ms/epoch - 866us/step\n",
      "Epoch 67/200\n",
      "24/24 - 0s - loss: 0.4341 - accuracy: 0.7583 - val_loss: 5.8078 - val_accuracy: 0.2000 - 22ms/epoch - 908us/step\n",
      "Epoch 68/200\n",
      "24/24 - 0s - loss: 0.4315 - accuracy: 0.7583 - val_loss: 5.8973 - val_accuracy: 0.2000 - 22ms/epoch - 907us/step\n",
      "Epoch 69/200\n",
      "24/24 - 0s - loss: 0.4289 - accuracy: 0.7583 - val_loss: 5.9517 - val_accuracy: 0.2000 - 22ms/epoch - 902us/step\n",
      "Epoch 70/200\n",
      "24/24 - 0s - loss: 0.4265 - accuracy: 0.7583 - val_loss: 6.0158 - val_accuracy: 0.2000 - 21ms/epoch - 880us/step\n",
      "Epoch 71/200\n",
      "24/24 - 0s - loss: 0.4245 - accuracy: 0.7583 - val_loss: 6.1168 - val_accuracy: 0.2000 - 22ms/epoch - 908us/step\n",
      "Epoch 72/200\n",
      "24/24 - 0s - loss: 0.4220 - accuracy: 0.7583 - val_loss: 6.2227 - val_accuracy: 0.2000 - 22ms/epoch - 917us/step\n",
      "Epoch 73/200\n",
      "24/24 - 0s - loss: 0.4195 - accuracy: 0.7667 - val_loss: 6.2526 - val_accuracy: 0.2000 - 21ms/epoch - 870us/step\n",
      "Epoch 74/200\n",
      "24/24 - 0s - loss: 0.4171 - accuracy: 0.7583 - val_loss: 6.3453 - val_accuracy: 0.2000 - 22ms/epoch - 910us/step\n",
      "Epoch 75/200\n",
      "24/24 - 0s - loss: 0.4149 - accuracy: 0.7667 - val_loss: 6.4890 - val_accuracy: 0.2000 - 22ms/epoch - 906us/step\n",
      "Epoch 76/200\n",
      "24/24 - 0s - loss: 0.4136 - accuracy: 0.7583 - val_loss: 6.5762 - val_accuracy: 0.2000 - 22ms/epoch - 897us/step\n",
      "Epoch 77/200\n",
      "24/24 - 0s - loss: 0.4112 - accuracy: 0.7750 - val_loss: 6.5667 - val_accuracy: 0.2000 - 21ms/epoch - 883us/step\n",
      "Epoch 78/200\n",
      "24/24 - 0s - loss: 0.4086 - accuracy: 0.7750 - val_loss: 6.6344 - val_accuracy: 0.2000 - 22ms/epoch - 923us/step\n",
      "Epoch 79/200\n",
      "24/24 - 0s - loss: 0.4068 - accuracy: 0.8000 - val_loss: 6.5892 - val_accuracy: 0.2000 - 21ms/epoch - 883us/step\n",
      "Epoch 80/200\n",
      "24/24 - 0s - loss: 0.4048 - accuracy: 0.8000 - val_loss: 6.7624 - val_accuracy: 0.2000 - 22ms/epoch - 916us/step\n",
      "Epoch 81/200\n",
      "24/24 - 0s - loss: 0.4027 - accuracy: 0.8000 - val_loss: 6.7579 - val_accuracy: 0.2000 - 21ms/epoch - 883us/step\n",
      "Epoch 82/200\n",
      "24/24 - 0s - loss: 0.4006 - accuracy: 0.8000 - val_loss: 6.8647 - val_accuracy: 0.2000 - 22ms/epoch - 904us/step\n",
      "Epoch 83/200\n",
      "24/24 - 0s - loss: 0.3988 - accuracy: 0.8000 - val_loss: 6.9916 - val_accuracy: 0.2000 - 21ms/epoch - 878us/step\n",
      "Epoch 84/200\n",
      "24/24 - 0s - loss: 0.3969 - accuracy: 0.8083 - val_loss: 7.0013 - val_accuracy: 0.2000 - 21ms/epoch - 874us/step\n",
      "Epoch 85/200\n",
      "24/24 - 0s - loss: 0.3963 - accuracy: 0.7833 - val_loss: 7.2161 - val_accuracy: 0.2000 - 22ms/epoch - 901us/step\n",
      "Epoch 86/200\n",
      "24/24 - 0s - loss: 0.3931 - accuracy: 0.8167 - val_loss: 7.1555 - val_accuracy: 0.2000 - 21ms/epoch - 886us/step\n",
      "Epoch 87/200\n",
      "24/24 - 0s - loss: 0.3917 - accuracy: 0.8500 - val_loss: 7.1990 - val_accuracy: 0.2000 - 22ms/epoch - 911us/step\n",
      "Epoch 88/200\n",
      "24/24 - 0s - loss: 0.3897 - accuracy: 0.8500 - val_loss: 7.2576 - val_accuracy: 0.2000 - 22ms/epoch - 920us/step\n",
      "Epoch 89/200\n",
      "24/24 - 0s - loss: 0.3881 - accuracy: 0.8417 - val_loss: 7.2958 - val_accuracy: 0.2000 - 22ms/epoch - 915us/step\n",
      "Epoch 90/200\n",
      "24/24 - 0s - loss: 0.3867 - accuracy: 0.8500 - val_loss: 7.3584 - val_accuracy: 0.2000 - 22ms/epoch - 922us/step\n",
      "Epoch 91/200\n",
      "24/24 - 0s - loss: 0.3847 - accuracy: 0.8583 - val_loss: 7.3993 - val_accuracy: 0.2000 - 22ms/epoch - 932us/step\n",
      "Epoch 92/200\n",
      "24/24 - 0s - loss: 0.3827 - accuracy: 0.8583 - val_loss: 7.5131 - val_accuracy: 0.2000 - 23ms/epoch - 938us/step\n",
      "Epoch 93/200\n",
      "24/24 - 0s - loss: 0.3811 - accuracy: 0.8583 - val_loss: 7.5603 - val_accuracy: 0.2000 - 22ms/epoch - 924us/step\n",
      "Epoch 94/200\n",
      "24/24 - 0s - loss: 0.3796 - accuracy: 0.8583 - val_loss: 7.5896 - val_accuracy: 0.2000 - 23ms/epoch - 970us/step\n",
      "Epoch 95/200\n",
      "24/24 - 0s - loss: 0.3780 - accuracy: 0.8583 - val_loss: 7.6671 - val_accuracy: 0.2000 - 22ms/epoch - 922us/step\n",
      "Epoch 96/200\n",
      "24/24 - 0s - loss: 0.3765 - accuracy: 0.8583 - val_loss: 7.8377 - val_accuracy: 0.2000 - 22ms/epoch - 897us/step\n",
      "Epoch 97/200\n",
      "24/24 - 0s - loss: 0.3753 - accuracy: 0.8583 - val_loss: 7.7155 - val_accuracy: 0.2000 - 22ms/epoch - 902us/step\n",
      "Epoch 98/200\n",
      "24/24 - 0s - loss: 0.3729 - accuracy: 0.8583 - val_loss: 7.8378 - val_accuracy: 0.2000 - 21ms/epoch - 861us/step\n",
      "Epoch 99/200\n",
      "24/24 - 0s - loss: 0.3714 - accuracy: 0.8583 - val_loss: 7.9898 - val_accuracy: 0.2000 - 21ms/epoch - 886us/step\n",
      "Epoch 100/200\n",
      "24/24 - 0s - loss: 0.3704 - accuracy: 0.8583 - val_loss: 8.0337 - val_accuracy: 0.2000 - 21ms/epoch - 891us/step\n",
      "Epoch 101/200\n",
      "24/24 - 0s - loss: 0.3683 - accuracy: 0.8583 - val_loss: 8.0821 - val_accuracy: 0.2000 - 22ms/epoch - 897us/step\n",
      "Epoch 102/200\n",
      "24/24 - 0s - loss: 0.3671 - accuracy: 0.8583 - val_loss: 8.1476 - val_accuracy: 0.2000 - 20ms/epoch - 851us/step\n",
      "Epoch 103/200\n",
      "24/24 - 0s - loss: 0.3654 - accuracy: 0.8583 - val_loss: 8.1454 - val_accuracy: 0.2000 - 21ms/epoch - 891us/step\n",
      "Epoch 104/200\n",
      "24/24 - 0s - loss: 0.3638 - accuracy: 0.8667 - val_loss: 8.1510 - val_accuracy: 0.2000 - 22ms/epoch - 934us/step\n",
      "Epoch 105/200\n",
      "24/24 - 0s - loss: 0.3622 - accuracy: 0.8667 - val_loss: 8.2378 - val_accuracy: 0.2000 - 22ms/epoch - 913us/step\n",
      "Epoch 106/200\n",
      "24/24 - 0s - loss: 0.3608 - accuracy: 0.8667 - val_loss: 8.3008 - val_accuracy: 0.2000 - 21ms/epoch - 879us/step\n",
      "Epoch 107/200\n",
      "24/24 - 0s - loss: 0.3594 - accuracy: 0.8667 - val_loss: 8.4156 - val_accuracy: 0.2000 - 24ms/epoch - 980us/step\n",
      "Epoch 108/200\n",
      "24/24 - 0s - loss: 0.3583 - accuracy: 0.8667 - val_loss: 8.4495 - val_accuracy: 0.2000 - 22ms/epoch - 898us/step\n",
      "Epoch 109/200\n",
      "24/24 - 0s - loss: 0.3562 - accuracy: 0.8667 - val_loss: 8.5269 - val_accuracy: 0.2000 - 22ms/epoch - 909us/step\n",
      "Epoch 110/200\n",
      "24/24 - 0s - loss: 0.3549 - accuracy: 0.8667 - val_loss: 8.6403 - val_accuracy: 0.2000 - 21ms/epoch - 896us/step\n",
      "Epoch 111/200\n",
      "24/24 - 0s - loss: 0.3533 - accuracy: 0.8667 - val_loss: 8.6523 - val_accuracy: 0.2000 - 21ms/epoch - 876us/step\n",
      "Epoch 112/200\n",
      "24/24 - 0s - loss: 0.3524 - accuracy: 0.8667 - val_loss: 8.6365 - val_accuracy: 0.2000 - 21ms/epoch - 869us/step\n",
      "Epoch 113/200\n",
      "24/24 - 0s - loss: 0.3506 - accuracy: 0.8667 - val_loss: 8.6851 - val_accuracy: 0.2000 - 23ms/epoch - 969us/step\n",
      "Epoch 114/200\n",
      "24/24 - 0s - loss: 0.3492 - accuracy: 0.8667 - val_loss: 8.7676 - val_accuracy: 0.2000 - 21ms/epoch - 861us/step\n",
      "Epoch 115/200\n",
      "24/24 - 0s - loss: 0.3481 - accuracy: 0.8667 - val_loss: 8.9126 - val_accuracy: 0.2000 - 22ms/epoch - 926us/step\n",
      "Epoch 116/200\n",
      "24/24 - 0s - loss: 0.3463 - accuracy: 0.8667 - val_loss: 8.8295 - val_accuracy: 0.2000 - 22ms/epoch - 936us/step\n",
      "Epoch 117/200\n",
      "24/24 - 0s - loss: 0.3450 - accuracy: 0.8667 - val_loss: 8.8702 - val_accuracy: 0.2000 - 22ms/epoch - 911us/step\n",
      "Epoch 118/200\n",
      "24/24 - 0s - loss: 0.3435 - accuracy: 0.8667 - val_loss: 8.9391 - val_accuracy: 0.2000 - 21ms/epoch - 892us/step\n",
      "Epoch 119/200\n",
      "24/24 - 0s - loss: 0.3425 - accuracy: 0.8750 - val_loss: 8.9016 - val_accuracy: 0.2000 - 22ms/epoch - 924us/step\n",
      "Epoch 120/200\n",
      "24/24 - 0s - loss: 0.3413 - accuracy: 0.8667 - val_loss: 9.1097 - val_accuracy: 0.2000 - 22ms/epoch - 930us/step\n",
      "Epoch 121/200\n",
      "24/24 - 0s - loss: 0.3397 - accuracy: 0.8750 - val_loss: 9.0136 - val_accuracy: 0.2000 - 22ms/epoch - 926us/step\n",
      "Epoch 122/200\n",
      "24/24 - 0s - loss: 0.3381 - accuracy: 0.8833 - val_loss: 9.0861 - val_accuracy: 0.2000 - 21ms/epoch - 872us/step\n",
      "Epoch 123/200\n",
      "24/24 - 0s - loss: 0.3384 - accuracy: 0.8667 - val_loss: 9.2802 - val_accuracy: 0.2000 - 21ms/epoch - 885us/step\n",
      "Epoch 124/200\n",
      "24/24 - 0s - loss: 0.3348 - accuracy: 0.8833 - val_loss: 9.1030 - val_accuracy: 0.2000 - 21ms/epoch - 874us/step\n",
      "Epoch 125/200\n",
      "24/24 - 0s - loss: 0.3342 - accuracy: 0.8917 - val_loss: 9.1571 - val_accuracy: 0.2000 - 21ms/epoch - 883us/step\n",
      "Epoch 126/200\n",
      "24/24 - 0s - loss: 0.3324 - accuracy: 0.8917 - val_loss: 9.1859 - val_accuracy: 0.2000 - 21ms/epoch - 864us/step\n",
      "Epoch 127/200\n",
      "24/24 - 0s - loss: 0.3315 - accuracy: 0.8917 - val_loss: 9.3423 - val_accuracy: 0.2000 - 21ms/epoch - 880us/step\n",
      "Epoch 128/200\n",
      "24/24 - 0s - loss: 0.3294 - accuracy: 0.8917 - val_loss: 9.3220 - val_accuracy: 0.2000 - 21ms/epoch - 860us/step\n",
      "Epoch 129/200\n",
      "24/24 - 0s - loss: 0.3282 - accuracy: 0.9000 - val_loss: 9.2476 - val_accuracy: 0.2000 - 21ms/epoch - 887us/step\n",
      "Epoch 130/200\n",
      "24/24 - 0s - loss: 0.3269 - accuracy: 0.8917 - val_loss: 9.2731 - val_accuracy: 0.2000 - 21ms/epoch - 860us/step\n"
     ]
    },
    {
     "name": "stdout",
     "output_type": "stream",
     "text": [
      "Epoch 131/200\n",
      "24/24 - 0s - loss: 0.3255 - accuracy: 0.9000 - val_loss: 9.4286 - val_accuracy: 0.2000 - 22ms/epoch - 907us/step\n",
      "Epoch 132/200\n",
      "24/24 - 0s - loss: 0.3245 - accuracy: 0.9000 - val_loss: 9.3304 - val_accuracy: 0.2000 - 21ms/epoch - 886us/step\n",
      "Epoch 133/200\n",
      "24/24 - 0s - loss: 0.3229 - accuracy: 0.9000 - val_loss: 9.4638 - val_accuracy: 0.2000 - 22ms/epoch - 920us/step\n",
      "Epoch 134/200\n",
      "24/24 - 0s - loss: 0.3212 - accuracy: 0.9000 - val_loss: 9.4953 - val_accuracy: 0.2000 - 22ms/epoch - 914us/step\n",
      "Epoch 135/200\n",
      "24/24 - 0s - loss: 0.3199 - accuracy: 0.9000 - val_loss: 9.4193 - val_accuracy: 0.2000 - 21ms/epoch - 893us/step\n",
      "Epoch 136/200\n",
      "24/24 - 0s - loss: 0.3184 - accuracy: 0.9000 - val_loss: 9.5339 - val_accuracy: 0.2000 - 22ms/epoch - 910us/step\n",
      "Epoch 137/200\n",
      "24/24 - 0s - loss: 0.3171 - accuracy: 0.9000 - val_loss: 9.5302 - val_accuracy: 0.2000 - 22ms/epoch - 924us/step\n",
      "Epoch 138/200\n",
      "24/24 - 0s - loss: 0.3153 - accuracy: 0.9000 - val_loss: 9.5085 - val_accuracy: 0.2000 - 22ms/epoch - 913us/step\n",
      "Epoch 139/200\n",
      "24/24 - 0s - loss: 0.3139 - accuracy: 0.8917 - val_loss: 9.4433 - val_accuracy: 0.2000 - 23ms/epoch - 957us/step\n",
      "Epoch 140/200\n",
      "24/24 - 0s - loss: 0.3121 - accuracy: 0.8917 - val_loss: 9.4783 - val_accuracy: 0.2000 - 22ms/epoch - 913us/step\n",
      "Epoch 141/200\n",
      "24/24 - 0s - loss: 0.3106 - accuracy: 0.8917 - val_loss: 9.5386 - val_accuracy: 0.2000 - 21ms/epoch - 892us/step\n",
      "Epoch 142/200\n",
      "24/24 - 0s - loss: 0.3096 - accuracy: 0.8917 - val_loss: 9.4679 - val_accuracy: 0.2000 - 22ms/epoch - 921us/step\n",
      "Epoch 143/200\n",
      "24/24 - 0s - loss: 0.3074 - accuracy: 0.8917 - val_loss: 9.4923 - val_accuracy: 0.2000 - 22ms/epoch - 930us/step\n",
      "Epoch 144/200\n",
      "24/24 - 0s - loss: 0.3061 - accuracy: 0.8917 - val_loss: 9.6248 - val_accuracy: 0.2000 - 23ms/epoch - 954us/step\n",
      "Epoch 145/200\n",
      "24/24 - 0s - loss: 0.3045 - accuracy: 0.8917 - val_loss: 9.4366 - val_accuracy: 0.2000 - 22ms/epoch - 909us/step\n",
      "Epoch 146/200\n",
      "24/24 - 0s - loss: 0.3022 - accuracy: 0.9000 - val_loss: 9.5446 - val_accuracy: 0.2000 - 23ms/epoch - 941us/step\n",
      "Epoch 147/200\n",
      "24/24 - 0s - loss: 0.3003 - accuracy: 0.9000 - val_loss: 9.5028 - val_accuracy: 0.2000 - 22ms/epoch - 899us/step\n",
      "Epoch 148/200\n",
      "24/24 - 0s - loss: 0.2985 - accuracy: 0.9000 - val_loss: 9.5130 - val_accuracy: 0.2000 - 21ms/epoch - 895us/step\n",
      "Epoch 149/200\n",
      "24/24 - 0s - loss: 0.2963 - accuracy: 0.9167 - val_loss: 9.4823 - val_accuracy: 0.2000 - 22ms/epoch - 933us/step\n",
      "Epoch 150/200\n",
      "24/24 - 0s - loss: 0.2940 - accuracy: 0.9250 - val_loss: 9.4138 - val_accuracy: 0.2000 - 22ms/epoch - 932us/step\n",
      "Epoch 151/200\n",
      "24/24 - 0s - loss: 0.2920 - accuracy: 0.9250 - val_loss: 9.4919 - val_accuracy: 0.2000 - 22ms/epoch - 918us/step\n",
      "Epoch 152/200\n",
      "24/24 - 0s - loss: 0.2898 - accuracy: 0.9250 - val_loss: 9.4491 - val_accuracy: 0.2000 - 23ms/epoch - 946us/step\n",
      "Epoch 153/200\n",
      "24/24 - 0s - loss: 0.2881 - accuracy: 0.9250 - val_loss: 9.4682 - val_accuracy: 0.2000 - 22ms/epoch - 935us/step\n",
      "Epoch 154/200\n",
      "24/24 - 0s - loss: 0.2860 - accuracy: 0.9250 - val_loss: 9.5810 - val_accuracy: 0.2000 - 23ms/epoch - 941us/step\n",
      "Epoch 155/200\n",
      "24/24 - 0s - loss: 0.2841 - accuracy: 0.9250 - val_loss: 9.6775 - val_accuracy: 0.2000 - 23ms/epoch - 969us/step\n",
      "Epoch 156/200\n",
      "24/24 - 0s - loss: 0.2838 - accuracy: 0.9250 - val_loss: 9.4310 - val_accuracy: 0.2000 - 23ms/epoch - 953us/step\n",
      "Epoch 157/200\n",
      "24/24 - 0s - loss: 0.2800 - accuracy: 0.9333 - val_loss: 9.6312 - val_accuracy: 0.2000 - 23ms/epoch - 938us/step\n",
      "Epoch 158/200\n",
      "24/24 - 0s - loss: 0.2782 - accuracy: 0.9250 - val_loss: 9.9270 - val_accuracy: 0.2000 - 21ms/epoch - 863us/step\n",
      "Epoch 159/200\n",
      "24/24 - 0s - loss: 0.2765 - accuracy: 0.9333 - val_loss: 9.6912 - val_accuracy: 0.2000 - 22ms/epoch - 906us/step\n",
      "Epoch 160/200\n",
      "24/24 - 0s - loss: 0.2741 - accuracy: 0.9333 - val_loss: 9.9390 - val_accuracy: 0.2000 - 21ms/epoch - 890us/step\n",
      "Epoch 161/200\n",
      "24/24 - 0s - loss: 0.2720 - accuracy: 0.9333 - val_loss: 9.9106 - val_accuracy: 0.2000 - 21ms/epoch - 865us/step\n",
      "Epoch 162/200\n",
      "24/24 - 0s - loss: 0.2701 - accuracy: 0.9333 - val_loss: 9.9259 - val_accuracy: 0.2000 - 21ms/epoch - 889us/step\n",
      "Epoch 163/200\n",
      "24/24 - 0s - loss: 0.2684 - accuracy: 0.9333 - val_loss: 10.0654 - val_accuracy: 0.2000 - 21ms/epoch - 880us/step\n",
      "Epoch 164/200\n",
      "24/24 - 0s - loss: 0.2666 - accuracy: 0.9417 - val_loss: 9.9230 - val_accuracy: 0.2000 - 21ms/epoch - 871us/step\n",
      "Epoch 165/200\n",
      "24/24 - 0s - loss: 0.2642 - accuracy: 0.9417 - val_loss: 10.0355 - val_accuracy: 0.2000 - 21ms/epoch - 857us/step\n",
      "Epoch 166/200\n",
      "24/24 - 0s - loss: 0.2625 - accuracy: 0.9417 - val_loss: 10.0395 - val_accuracy: 0.2000 - 21ms/epoch - 883us/step\n",
      "Epoch 167/200\n",
      "24/24 - 0s - loss: 0.2604 - accuracy: 0.9417 - val_loss: 10.1350 - val_accuracy: 0.2000 - 22ms/epoch - 915us/step\n",
      "Epoch 168/200\n",
      "24/24 - 0s - loss: 0.2586 - accuracy: 0.9417 - val_loss: 10.2867 - val_accuracy: 0.2000 - 22ms/epoch - 917us/step\n",
      "Epoch 169/200\n",
      "24/24 - 0s - loss: 0.2575 - accuracy: 0.9417 - val_loss: 10.3359 - val_accuracy: 0.2000 - 21ms/epoch - 855us/step\n",
      "Epoch 170/200\n",
      "24/24 - 0s - loss: 0.2550 - accuracy: 0.9417 - val_loss: 10.4871 - val_accuracy: 0.2000 - 22ms/epoch - 902us/step\n",
      "Epoch 171/200\n",
      "24/24 - 0s - loss: 0.2533 - accuracy: 0.9417 - val_loss: 10.5041 - val_accuracy: 0.2000 - 21ms/epoch - 888us/step\n",
      "Epoch 172/200\n",
      "24/24 - 0s - loss: 0.2524 - accuracy: 0.9417 - val_loss: 10.5611 - val_accuracy: 0.2000 - 22ms/epoch - 921us/step\n",
      "Epoch 173/200\n",
      "24/24 - 0s - loss: 0.2504 - accuracy: 0.9417 - val_loss: 10.4333 - val_accuracy: 0.2000 - 23ms/epoch - 943us/step\n",
      "Epoch 174/200\n",
      "24/24 - 0s - loss: 0.2486 - accuracy: 0.9417 - val_loss: 10.5655 - val_accuracy: 0.2000 - 22ms/epoch - 907us/step\n",
      "Epoch 175/200\n",
      "24/24 - 0s - loss: 0.2467 - accuracy: 0.9417 - val_loss: 10.7875 - val_accuracy: 0.2000 - 23ms/epoch - 939us/step\n",
      "Epoch 176/200\n",
      "24/24 - 0s - loss: 0.2450 - accuracy: 0.9417 - val_loss: 10.8259 - val_accuracy: 0.2000 - 23ms/epoch - 961us/step\n",
      "Epoch 177/200\n",
      "24/24 - 0s - loss: 0.2446 - accuracy: 0.9417 - val_loss: 10.9454 - val_accuracy: 0.2000 - 22ms/epoch - 911us/step\n",
      "Epoch 178/200\n",
      "24/24 - 0s - loss: 0.2432 - accuracy: 0.9417 - val_loss: 10.7806 - val_accuracy: 0.2000 - 22ms/epoch - 909us/step\n",
      "Epoch 179/200\n",
      "24/24 - 0s - loss: 0.2415 - accuracy: 0.9417 - val_loss: 11.1204 - val_accuracy: 0.2000 - 22ms/epoch - 928us/step\n",
      "Epoch 180/200\n",
      "24/24 - 0s - loss: 0.2394 - accuracy: 0.9417 - val_loss: 11.0953 - val_accuracy: 0.2000 - 26ms/epoch - 1ms/step\n",
      "Epoch 181/200\n",
      "24/24 - 0s - loss: 0.2389 - accuracy: 0.9417 - val_loss: 10.8343 - val_accuracy: 0.2000 - 24ms/epoch - 985us/step\n",
      "Epoch 182/200\n",
      "24/24 - 0s - loss: 0.2364 - accuracy: 0.9417 - val_loss: 10.9948 - val_accuracy: 0.2000 - 23ms/epoch - 970us/step\n",
      "Epoch 183/200\n",
      "24/24 - 0s - loss: 0.2351 - accuracy: 0.9417 - val_loss: 11.2452 - val_accuracy: 0.2000 - 25ms/epoch - 1ms/step\n",
      "Epoch 184/200\n",
      "24/24 - 0s - loss: 0.2332 - accuracy: 0.9417 - val_loss: 11.2364 - val_accuracy: 0.2000 - 22ms/epoch - 937us/step\n",
      "Epoch 185/200\n",
      "24/24 - 0s - loss: 0.2319 - accuracy: 0.9417 - val_loss: 11.1505 - val_accuracy: 0.2000 - 24ms/epoch - 1ms/step\n",
      "Epoch 186/200\n",
      "24/24 - 0s - loss: 0.2313 - accuracy: 0.9417 - val_loss: 11.4342 - val_accuracy: 0.2000 - 25ms/epoch - 1ms/step\n",
      "Epoch 187/200\n",
      "24/24 - 0s - loss: 0.2292 - accuracy: 0.9417 - val_loss: 11.2485 - val_accuracy: 0.2000 - 23ms/epoch - 978us/step\n",
      "Epoch 188/200\n",
      "24/24 - 0s - loss: 0.2276 - accuracy: 0.9417 - val_loss: 11.3766 - val_accuracy: 0.2000 - 22ms/epoch - 913us/step\n",
      "Epoch 189/200\n",
      "24/24 - 0s - loss: 0.2263 - accuracy: 0.9417 - val_loss: 11.4497 - val_accuracy: 0.2000 - 22ms/epoch - 914us/step\n",
      "Epoch 190/200\n",
      "24/24 - 0s - loss: 0.2252 - accuracy: 0.9417 - val_loss: 11.5619 - val_accuracy: 0.2000 - 25ms/epoch - 1ms/step\n",
      "Epoch 191/200\n",
      "24/24 - 0s - loss: 0.2243 - accuracy: 0.9417 - val_loss: 11.7116 - val_accuracy: 0.2000 - 22ms/epoch - 911us/step\n",
      "Epoch 192/200\n",
      "24/24 - 0s - loss: 0.2224 - accuracy: 0.9417 - val_loss: 11.6149 - val_accuracy: 0.2000 - 25ms/epoch - 1ms/step\n",
      "Epoch 193/200\n",
      "24/24 - 0s - loss: 0.2213 - accuracy: 0.9417 - val_loss: 11.6170 - val_accuracy: 0.2000 - 23ms/epoch - 975us/step\n",
      "Epoch 194/200\n",
      "24/24 - 0s - loss: 0.2202 - accuracy: 0.9417 - val_loss: 11.6049 - val_accuracy: 0.2000 - 23ms/epoch - 967us/step\n",
      "Epoch 195/200\n",
      "24/24 - 0s - loss: 0.2187 - accuracy: 0.9417 - val_loss: 11.6849 - val_accuracy: 0.2000 - 23ms/epoch - 961us/step\n"
     ]
    },
    {
     "name": "stdout",
     "output_type": "stream",
     "text": [
      "Epoch 196/200\n",
      "24/24 - 0s - loss: 0.2176 - accuracy: 0.9417 - val_loss: 11.8725 - val_accuracy: 0.2000 - 23ms/epoch - 943us/step\n",
      "Epoch 197/200\n",
      "24/24 - 0s - loss: 0.2166 - accuracy: 0.9417 - val_loss: 11.8933 - val_accuracy: 0.2000 - 22ms/epoch - 905us/step\n",
      "Epoch 198/200\n",
      "24/24 - 0s - loss: 0.2153 - accuracy: 0.9417 - val_loss: 11.9100 - val_accuracy: 0.2000 - 22ms/epoch - 915us/step\n",
      "Epoch 199/200\n",
      "24/24 - 0s - loss: 0.2139 - accuracy: 0.9417 - val_loss: 11.9116 - val_accuracy: 0.2000 - 22ms/epoch - 929us/step\n",
      "Epoch 200/200\n",
      "24/24 - 0s - loss: 0.2141 - accuracy: 0.9417 - val_loss: 11.8405 - val_accuracy: 0.2000 - 22ms/epoch - 911us/step\n"
     ]
    },
    {
     "data": {
      "text/plain": [
       "<keras.callbacks.History at 0x7ff8805ede40>"
      ]
     },
     "execution_count": 20,
     "metadata": {},
     "output_type": "execute_result"
    }
   ],
   "source": [
    "model = baseline_model()\n",
    "model.fit(\n",
    "    X_train, y_train,\n",
    "    batch_size=5,\n",
    "    epochs=200,\n",
    "    validation_data = (X_test, y_test),\n",
    "    shuffle=True,\n",
    "    workers=16,\n",
    "    use_multiprocessing=True,\n",
    "    verbose = 2\n",
    ")\n"
   ]
  },
  {
   "cell_type": "markdown",
   "id": "12e3341b",
   "metadata": {},
   "source": [
    "# Applying the neural network"
   ]
  },
  {
   "cell_type": "markdown",
   "id": "38907182",
   "metadata": {},
   "source": [
    "Applying inverse normalization to obtain data similar to the real world\n",
    "```python\n",
    "X_test = xscaler.inverse_transform(X_test)\n",
    "```"
   ]
  },
  {
   "cell_type": "code",
   "execution_count": 13,
   "id": "c1a62188",
   "metadata": {},
   "outputs": [],
   "source": [
    "X_test = xscaler.inverse_transform(X_test)"
   ]
  },
  {
   "cell_type": "markdown",
   "id": "1935ec65",
   "metadata": {},
   "source": [
    "## Prediction"
   ]
  },
  {
   "cell_type": "markdown",
   "id": "3487a021",
   "metadata": {},
   "source": [
    "```python\n",
    "def predict(x_scaler,model,X):\n",
    "    return (model.predict(x_scaler.transform(X_test)))\n",
    "```"
   ]
  },
  {
   "cell_type": "code",
   "execution_count": 14,
   "id": "f16893e3",
   "metadata": {},
   "outputs": [],
   "source": [
    "def predict(x_scaler,model,X):\n",
    "    return (model.predict(x_scaler.transform(X_test)))"
   ]
  },
  {
   "cell_type": "markdown",
   "id": "61c95fb0",
   "metadata": {},
   "source": [
    "```python\n",
    "y_pred = predict(xscaler,model,X_test)\n",
    "```"
   ]
  },
  {
   "cell_type": "code",
   "execution_count": 15,
   "id": "4e3633ec",
   "metadata": {},
   "outputs": [
    {
     "name": "stdout",
     "output_type": "stream",
     "text": [
      "1/1 [==============================] - 0s 39ms/step\n"
     ]
    }
   ],
   "source": [
    "y_pred = predict(xscaler,model,X_test)"
   ]
  },
  {
   "cell_type": "markdown",
   "id": "a181d774",
   "metadata": {},
   "source": [
    "# Verification of accuracy"
   ]
  },
  {
   "cell_type": "markdown",
   "id": "aba49d12",
   "metadata": {},
   "source": [
    "```python\n",
    "classificar = np.argmax(y_pred, axis=-1)\n",
    "acertos = 0\n",
    "y_pred_con = np.zeros((len(classificar),3))\n",
    "for i,pred in enumerate(classificar):\n",
    "    acertos += y_test[i][pred]\n",
    "accuracy = acertos/len(y_test)\n",
    "\n",
    "print(\"The accuracy of model is %.2f%%\" %(accuracy*100))\n",
    "```"
   ]
  },
  {
   "cell_type": "code",
   "execution_count": 16,
   "id": "40ea8d4b",
   "metadata": {},
   "outputs": [
    {
     "name": "stdout",
     "output_type": "stream",
     "text": [
      "The accuracy of model is 100.00%\n"
     ]
    }
   ],
   "source": [
    "classificar = np.argmax(y_pred, axis=-1)\n",
    "acertos = 0\n",
    "y_pred_con = np.zeros((len(classificar),3))\n",
    "for i,pred in enumerate(classificar):\n",
    "    acertos += y_test[i][pred]\n",
    "accuracy = acertos/len(y_test)\n",
    "\n",
    "print(\"The accuracy of model is %.2f%%\" %(accuracy*100))"
   ]
  },
  {
   "cell_type": "markdown",
   "id": "a68d3704",
   "metadata": {},
   "source": [
    "# Confusion matrix"
   ]
  },
  {
   "cell_type": "markdown",
   "id": "0e63bc33",
   "metadata": {},
   "source": [
    "```python\n",
    "cf_matrix = confusion_matrix(np.argmax(y_test,-1), np.argmax(y_pred,-1))\n",
    "print(cf_matrix)\n",
    "```"
   ]
  },
  {
   "cell_type": "code",
   "execution_count": 17,
   "id": "64092782",
   "metadata": {},
   "outputs": [],
   "source": [
    "cf_matrix = confusion_matrix(np.argmax(y_test,-1), np.argmax(y_pred,-1))"
   ]
  },
  {
   "cell_type": "markdown",
   "id": "1a44391c",
   "metadata": {},
   "source": [
    "### Plot of confusion matrix"
   ]
  },
  {
   "cell_type": "markdown",
   "id": "3f7f4b48",
   "metadata": {},
   "source": [
    "```python\n",
    "sns.heatmap(cf_matrix, annot=True)\n",
    "plt.ylabel(\"Target\")\n",
    "plt.xlabel(\"Predict\")\n",
    "```"
   ]
  },
  {
   "cell_type": "code",
   "execution_count": 18,
   "id": "cbfe63ed",
   "metadata": {},
   "outputs": [
    {
     "data": {
      "text/plain": [
       "Text(0.5, 15.0, 'Predict')"
      ]
     },
     "execution_count": 18,
     "metadata": {},
     "output_type": "execute_result"
    },
    {
     "data": {
      "image/png": "[encoded data removed]",
      "text/plain": [
       "<Figure size 432x288 with 2 Axes>"
      ]
     },
     "metadata": {
      "needs_background": "light"
     },
     "output_type": "display_data"
    }
   ],
   "source": [
    "sns.heatmap(cf_matrix, annot=True)\n",
    "plt.ylabel(\"Target\")\n",
    "plt.xlabel(\"Predict\")"
   ]
  },
  {
   "cell_type": "code",
   "execution_count": null,
   "id": "1c94e858",
   "metadata": {},
   "outputs": [],
   "source": []
  }
 ],
 "metadata": {
  "kernelspec": {
   "display_name": "Python 3 (ipykernel)",
   "language": "python",
   "name": "python3"
  },
  "language_info": {
   "codemirror_mode": {
    "name": "ipython",
    "version": 3
   },
   "file_extension": ".py",
   "mimetype": "text/x-python",
   "name": "python",
   "nbconvert_exporter": "python",
   "pygments_lexer": "ipython3",
   "version": "3.10.4"
  }
 },
 "nbformat": 4,
 "nbformat_minor": 5
}
