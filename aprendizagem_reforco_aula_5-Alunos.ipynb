{
 "cells": [
  {
   "cell_type": "markdown",
   "id": "9fdbd092",
   "metadata": {},
   "source": [
    "<h1>\n",
    "    <center>\n",
    "       O modelo Thompson Sampling"
   ]
  },
  {
   "cell_type": "markdown",
   "id": "de876196",
   "metadata": {},
   "source": [
    "# Determinação da máquina com maior chance de vitória"
   ]
  },
  {
   "cell_type": "markdown",
   "id": "df489a18",
   "metadata": {},
   "source": [
    "O modelo de Thompson Sampling será utilizado para determinar quais das máquinas oferece a maior chance de vitória. Este algoritmo utiliza a função de distribuição apresentada a seguir:\n",
    "\n",
    "\\begin{equation}\n",
    "    x = \\beta(a,b)\n",
    "\\end{equation}\n",
    "onde:\n",
    "* $x$ é uma escolha aleatória para distribuição Beta;\n",
    "* $\\beta$ é nossa função Beta;\n",
    "* $a$ é o primeiro argumento;\n",
    "* $b$ é o segundo argumento."
   ]
  },
  {
   "cell_type": "markdown",
   "id": "841928c0",
   "metadata": {},
   "source": [
    "## Importing the libraries "
   ]
  },
  {
   "cell_type": "code",
   "execution_count": 1,
   "id": "e8a5373a",
   "metadata": {},
   "outputs": [],
   "source": [
    "import numpy as np"
   ]
  },
  {
   "cell_type": "markdown",
   "id": "f573e7c6",
   "metadata": {},
   "source": [
    "## Setting conversion rates and the number of samples"
   ]
  },
  {
   "cell_type": "markdown",
   "id": "27d9ccd8",
   "metadata": {},
   "source": [
    "Now we have to understand something very important. You are creating a simulation whose aim is to simulate real-life situations. In reality, every slot machine gives us some chance of winning, and some machines have it higher than others. Therefore, when simulating this environment, you have to do the same thing. It is important to remember, however, that our AI will not know these predefined winning rates. It cannot just read them and judge, based on these rates, which machine is the best"
   ]
  },
  {
   "cell_type": "code",
   "execution_count": 2,
   "id": "178f3fd4",
   "metadata": {},
   "outputs": [],
   "source": [
    "conversionRates = [0.15, 0.04, 0.13, 0.11, 0.05]"
   ]
  },
  {
   "cell_type": "code",
   "execution_count": 3,
   "id": "d4464335",
   "metadata": {},
   "outputs": [],
   "source": [
    "n = 10000\n",
    "d = len(conversionRates)"
   ]
  },
  {
   "cell_type": "markdown",
   "id": "7230b49b",
   "metadata": {},
   "source": [
    "## Criação do dataset para treinamento"
   ]
  },
  {
   "cell_type": "code",
   "execution_count": 4,
   "id": "36866f43",
   "metadata": {},
   "outputs": [],
   "source": [
    "x = np.zeros((n, d))"
   ]
  },
  {
   "cell_type": "code",
   "execution_count": 5,
   "id": "755e2748",
   "metadata": {},
   "outputs": [],
   "source": [
    "for i in range(n):\n",
    "    for j in range(d):\n",
    "        if np.random.rand() < conversionRates[j]:\n",
    "            x[i][j] = 1"
   ]
  },
  {
   "cell_type": "markdown",
   "id": "0c7c7cd0",
   "metadata": {},
   "source": [
    "## Counter of victory number"
   ]
  },
  {
   "cell_type": "code",
   "execution_count": 6,
   "id": "2188be9a",
   "metadata": {},
   "outputs": [],
   "source": [
    "n_pos_result = np.zeros(d)\n",
    "n_neg_result = np.zeros(d)"
   ]
  },
  {
   "cell_type": "markdown",
   "id": "d92d71f1",
   "metadata": {},
   "source": [
    "## Taking our best slot machine through beta distribution and updating its losses and wins"
   ]
  },
  {
   "cell_type": "code",
   "execution_count": 7,
   "id": "0ee3fe50",
   "metadata": {},
   "outputs": [],
   "source": [
    "for i in range(n):\n",
    "    selected = 0\n",
    "    maximum = 0\n",
    "    \n",
    "    for j in range(d):\n",
    "        beta = np.random.beta(n_pos_result[j]+1, n_neg_result[j]+1)\n",
    "        \n",
    "        if beta > maximum:\n",
    "            selected, maximum = j, beta\n",
    "    \n",
    "    if x[i][selected] == 1:\n",
    "        n_pos_result[selected]+= 1\n",
    "    else:\n",
    "        n_neg_result[selected]+= 1"
   ]
  },
  {
   "cell_type": "markdown",
   "id": "af4d12ce",
   "metadata": {},
   "source": [
    "## Showing which slot machine is considered the best"
   ]
  },
  {
   "cell_type": "code",
   "execution_count": 14,
   "id": "6d564617",
   "metadata": {},
   "outputs": [
    {
     "name": "stdout",
     "output_type": "stream",
     "text": [
      "Machine number 1 was selected 8368 times!\n",
      "Machine number 2 was selected 67 times!\n",
      "Machine number 3 was selected 1172 times!\n",
      "Machine number 4 was selected 333 times!\n",
      "Machine number 5 was selected 60 times!\n"
     ]
    }
   ],
   "source": [
    "n_selected = n_pos_result + n_neg_result\n",
    "\n",
    "for i in range(d):\n",
    "    print(f'Machine number {i+1} was selected {int(n_selected[i])} times!')"
   ]
  },
  {
   "cell_type": "code",
   "execution_count": 16,
   "id": "cc16703f",
   "metadata": {},
   "outputs": [
    {
     "name": "stdout",
     "output_type": "stream",
     "text": [
      "Machine number 1 has the best odds!\n"
     ]
    }
   ],
   "source": [
    "maquina = np.argmax(n_selected)\n",
    "\n",
    "print(f'Machine number {maquina+1} has the best odds!')"
   ]
  }
 ],
 "metadata": {
  "kernelspec": {
   "display_name": "Python 3.10.4 64-bit",
   "language": "python",
   "name": "python3"
  },
  "language_info": {
   "codemirror_mode": {
    "name": "ipython",
    "version": 3
   },
   "file_extension": ".py",
   "mimetype": "text/x-python",
   "name": "python",
   "nbconvert_exporter": "python",
   "pygments_lexer": "ipython3",
   "version": "3.10.4"
  },
  "vscode": {
   "interpreter": {
    "hash": "916dbcbb3f70747c44a77c7bcd40155683ae19c65e1c03b4aa3499c5328201f1"
   }
  }
 },
 "nbformat": 4,
 "nbformat_minor": 5
}
