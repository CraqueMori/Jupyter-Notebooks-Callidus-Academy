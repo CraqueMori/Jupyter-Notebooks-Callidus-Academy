{
 "cells": [
  {
   "cell_type": "markdown",
   "id": "8d2c1d02",
   "metadata": {},
   "source": [
    "<h1><center>Reconhecimento de dígitos em imagens </center></h1>"
   ]
  },
  {
   "cell_type": "markdown",
   "id": "bff07be5",
   "metadata": {},
   "source": [
    "# Treinamento em épocas e bacth"
   ]
  },
  {
   "cell_type": "markdown",
   "id": "0d6a9046",
   "metadata": {},
   "source": [
    "## Importação das bibliotecas"
   ]
  },
  {
   "cell_type": "code",
   "execution_count": 5,
   "id": "a4a35dad",
   "metadata": {},
   "outputs": [],
   "source": [
    "import torch\n",
    "from torch import nn, optim\n",
    "from torch.utils.data import DataLoader\n",
    "from torchvision import datasets, transforms\n",
    "\n",
    "\n",
    "import matplotlib.pyplot as plt\n",
    "import numpy as np"
   ]
  },
  {
   "cell_type": "markdown",
   "id": "14794260",
   "metadata": {},
   "source": [
    "## Criação dos dicionários"
   ]
  },
  {
   "cell_type": "code",
   "execution_count": 6,
   "id": "1630a350",
   "metadata": {},
   "outputs": [],
   "source": [
    "args = {\n",
    "    'batch_size': 200,\n",
    "    'num_workers': 16,\n",
    "    'num_classes': 10,\n",
    "    'lr': 1e-4,\n",
    "    'weight_decay': 5e-4,\n",
    "    'num_epochs': 20\n",
    "}"
   ]
  },
  {
   "cell_type": "markdown",
   "id": "29ed4927",
   "metadata": {},
   "source": [
    "## Verificação do dispositivo"
   ]
  },
  {
   "cell_type": "code",
   "execution_count": 7,
   "id": "60827c2a",
   "metadata": {},
   "outputs": [
    {
     "name": "stdout",
     "output_type": "stream",
     "text": [
      "cuda\n"
     ]
    }
   ],
   "source": [
    "if torch.cuda.is_available():\n",
    "    args['device'] = torch.device('cuda')\n",
    "else:\n",
    "    args['device'] = torch.device('cpu')\n",
    "print(args['device'])"
   ]
  },
  {
   "cell_type": "markdown",
   "id": "434f89ce",
   "metadata": {},
   "source": [
    "## Importação do dataset de imagens"
   ]
  },
  {
   "cell_type": "code",
   "execution_count": 8,
   "id": "15ea1612",
   "metadata": {},
   "outputs": [
    {
     "ename": "NameError",
     "evalue": "name 'transform' is not defined",
     "output_type": "error",
     "traceback": [
      "\u001b[0;31m---------------------------------------------------------------------------\u001b[0m",
      "\u001b[0;31mNameError\u001b[0m                                 Traceback (most recent call last)",
      "Input \u001b[0;32mIn [8]\u001b[0m, in \u001b[0;36m<cell line: 1>\u001b[0;34m()\u001b[0m\n\u001b[0;32m----> 1\u001b[0m train_set \u001b[38;5;241m=\u001b[39m datasets\u001b[38;5;241m.\u001b[39mMNIST(\u001b[38;5;124m'\u001b[39m\u001b[38;5;124m./\u001b[39m\u001b[38;5;124m'\u001b[39m, train \u001b[38;5;241m=\u001b[39m \u001b[38;5;28;01mTrue\u001b[39;00m, download \u001b[38;5;241m=\u001b[39m \u001b[38;5;28;01mTrue\u001b[39;00m, transform \u001b[38;5;241m=\u001b[39m \u001b[43mtransform\u001b[49m\u001b[38;5;241m.\u001b[39mToTensor())\n\u001b[1;32m      2\u001b[0m test_set \u001b[38;5;241m=\u001b[39m datasets\u001b[38;5;241m.\u001b[39mMNIST(\u001b[38;5;124m'\u001b[39m\u001b[38;5;124m./\u001b[39m\u001b[38;5;124m'\u001b[39m, )\n",
      "\u001b[0;31mNameError\u001b[0m: name 'transform' is not defined"
     ]
    }
   ],
   "source": [
    "train_set = datasets.MNIST('./', train = True, download = True, transform = transform.ToTensor())\n",
    "test_set = datasets.MNIST('./', )"
   ]
  },
  {
   "cell_type": "code",
   "execution_count": 9,
   "id": "06b09e74",
   "metadata": {},
   "outputs": [
    {
     "ename": "NameError",
     "evalue": "name 'train_set' is not defined",
     "output_type": "error",
     "traceback": [
      "\u001b[0;31m---------------------------------------------------------------------------\u001b[0m",
      "\u001b[0;31mNameError\u001b[0m                                 Traceback (most recent call last)",
      "Input \u001b[0;32mIn [9]\u001b[0m, in \u001b[0;36m<cell line: 1>\u001b[0;34m()\u001b[0m\n\u001b[0;32m----> 1\u001b[0m \u001b[38;5;28mprint\u001b[39m(\u001b[38;5;28mlen\u001b[39m(\u001b[43mtrain_set\u001b[49m))\n",
      "\u001b[0;31mNameError\u001b[0m: name 'train_set' is not defined"
     ]
    }
   ],
   "source": [
    "print(len(train_set))"
   ]
  },
  {
   "cell_type": "markdown",
   "id": "face76df",
   "metadata": {},
   "source": [
    "## Observação de dados"
   ]
  },
  {
   "cell_type": "code",
   "execution_count": 20,
   "id": "bca5dbda",
   "metadata": {},
   "outputs": [
    {
     "ename": "NameError",
     "evalue": "name 'train_set' is not defined",
     "output_type": "error",
     "traceback": [
      "\u001b[0;31m---------------------------------------------------------------------------\u001b[0m",
      "\u001b[0;31mNameError\u001b[0m                                 Traceback (most recent call last)",
      "Input \u001b[0;32mIn [20]\u001b[0m, in \u001b[0;36m<cell line: 1>\u001b[0;34m()\u001b[0m\n\u001b[1;32m      1\u001b[0m \u001b[38;5;28;01mfor\u001b[39;00m i \u001b[38;5;129;01min\u001b[39;00m \u001b[38;5;28mrange\u001b[39m(\u001b[38;5;241m3\u001b[39m):\n\u001b[0;32m----> 2\u001b[0m     dado, rotulo \u001b[38;5;241m=\u001b[39m \u001b[43mtrain_set\u001b[49m[i]\n\u001b[1;32m      3\u001b[0m     plt\u001b[38;5;241m.\u001b[39mfigure()\n\u001b[1;32m      4\u001b[0m     plt\u001b[38;5;241m.\u001b[39mimshow(dado[\u001b[38;5;241m0\u001b[39m])\n",
      "\u001b[0;31mNameError\u001b[0m: name 'train_set' is not defined"
     ]
    }
   ],
   "source": [
    "for i in range(3):\n",
    "    dado, rotulo = train_set[i]\n",
    "    plt.figure()\n",
    "    plt.imshow(dado[0])\n",
    "    plttitle('Rotulo: ' + str(rotulo))"
   ]
  },
  {
   "cell_type": "markdown",
   "id": "331696e4",
   "metadata": {},
   "source": [
    "## Utilizando o dataloader"
   ]
  },
  {
   "cell_type": "code",
   "execution_count": null,
   "id": "4ccaf920",
   "metadata": {},
   "outputs": [],
   "source": [
    "train_loader = DataLoader(train_set, batch_size = args['batch_size'], shuffle = True, num_workers = args['num_workers'])\n",
    "test_loader = DataLoader(test_set, batch_size = len(test_set), shuffle = True, num_workers = args['num_workers'])"
   ]
  },
  {
   "cell_type": "markdown",
   "id": "016eb329",
   "metadata": {},
   "source": [
    "## Como acessar o iterator"
   ]
  },
  {
   "cell_type": "code",
   "execution_count": null,
   "id": "ca6f6000",
   "metadata": {},
   "outputs": [],
   "source": [
    "for batch in train_loader:\n",
    "    dado, rotulo = batch\n",
    "    print(dado.size(), rotulo.size())\n",
    "    plt.imshow(dado[0][0])\n",
    "    plt.title('Rotulo' + str(rotulo[0]))"
   ]
  },
  {
   "cell_type": "markdown",
   "id": "9e825897",
   "metadata": {},
   "source": [
    "## Fluxo de treinamento"
   ]
  },
  {
   "cell_type": "markdown",
   "id": "e92cf3d2",
   "metadata": {},
   "source": [
    "### Criação da rede"
   ]
  },
  {
   "cell_type": "code",
   "execution_count": 22,
   "id": "7d03c227",
   "metadata": {},
   "outputs": [],
   "source": [
    "class MLP(nn.Module):\n",
    "    def __init__(self, input_size, hidden_size, out_size):\n",
    "        super(MLP, self).__init__()\n",
    "        \n",
    "        self.features = nn.Sequential(\n",
    "            nn.Linear(input_size, hdden_size),\n",
    "            nn.ReLu(),\n",
    "            nn.Linear(hidden_size, hidden_size),\n",
    "            nn.ReLu()\n",
    "        )\n",
    "        self.out = nn.Linear(hidden_size, out_size)\n",
    "        self.softmax = nn.Softmax(dim=1)\n",
    "        \n",
    "    def forward(self, X):\n",
    "        X = X.view(X.size(0), -1)\n",
    "        feature = self.features(X)\n",
    "        output = self.softmax(self.out(feature))\n",
    "        return output"
   ]
  },
  {
   "cell_type": "code",
   "execution_count": 23,
   "id": "b2f20762",
   "metadata": {},
   "outputs": [],
   "source": [
    "input_size = 28*28\n",
    "hidden_size = 128\n",
    "out_size = 10"
   ]
  },
  {
   "cell_type": "code",
   "execution_count": 21,
   "id": "00e619ff",
   "metadata": {},
   "outputs": [
    {
     "name": "stdout",
     "output_type": "stream",
     "text": [
      "['sm_37', 'sm_50', 'sm_60', 'sm_61', 'sm_70', 'sm_75', 'sm_80', 'sm_86', 'compute_37']\n"
     ]
    }
   ],
   "source": [
    "print(torch.cuda.get_arch_list())"
   ]
  },
  {
   "cell_type": "code",
   "execution_count": null,
   "id": "badd4762",
   "metadata": {},
   "outputs": [],
   "source": [
    "net = MLP(input_size, hidden_size, out_size).to(args['device'])"
   ]
  },
  {
   "cell_type": "markdown",
   "id": "09504d5b",
   "metadata": {},
   "source": [
    "### Definicao da loss e da perda"
   ]
  },
  {
   "cell_type": "code",
   "execution_count": null,
   "id": "a7923e6e",
   "metadata": {},
   "outputs": [],
   "source": [
    "criterion = nn."
   ]
  },
  {
   "cell_type": "markdown",
   "id": "0c6e3119",
   "metadata": {},
   "source": [
    "### Realizando o fluxo de treinamento"
   ]
  },
  {
   "cell_type": "code",
   "execution_count": null,
   "id": "d0af3e69",
   "metadata": {},
   "outputs": [],
   "source": [
    "for epoch in range(args['num_epochs']):\n",
    "    epoch_loss = [];\n",
    "    \n",
    "    for batch in train_loader:\n",
    "        dado, rotulo = batch\n",
    "        \n",
    "        dado = dado.to(args['device'])\n",
    "        rotulo = rotulo.to(args['device'])\n",
    "        \n",
    "        pred = net(dado)\n",
    "        loss = criterion(pred, rotulo)\n",
    "        epoch_loss.append(loss.cpu().data)\n",
    "        \n",
    "        loss.backward()\n",
    "        optimizer.step()\n",
    "    \n",
    "    epoch_loss = np.asarray(epoch_loss)\n",
    "    print(f\"Epoca: {epoch}, Loss: {epoch_loss.mean():.2f}\")"
   ]
  },
  {
   "cell_type": "markdown",
   "id": "a2ab177d",
   "metadata": {},
   "source": [
    "### Realizando testes de rede"
   ]
  },
  {
   "cell_type": "code",
   "execution_count": null,
   "id": "dbfc30b5",
   "metadata": {},
   "outputs": [],
   "source": [
    "for dado, rotulo in test_loader:\n",
    "    dados = dado\n",
    "    rotulos = rotulo\n",
    "predicoes = net(dados.to(args['device']))\n",
    "predicoes = predicoes.to('cpu')\n",
    "dados = dados.to('cpu')"
   ]
  },
  {
   "cell_type": "code",
   "execution_count": 24,
   "id": "5233de18",
   "metadata": {},
   "outputs": [
    {
     "ename": "SyntaxError",
     "evalue": "incomplete input (46177226.py, line 5)",
     "output_type": "error",
     "traceback": [
      "\u001b[0;36m  Input \u001b[0;32mIn [24]\u001b[0;36m\u001b[0m\n\u001b[0;31m    \u001b[0m\n\u001b[0m    ^\u001b[0m\n\u001b[0;31mSyntaxError\u001b[0m\u001b[0;31m:\u001b[0m incomplete input\n"
     ]
    }
   ],
   "source": [
    "N = np.asarray(rotulos.data).shape[0]\n",
    "\n",
    "acertos = 0\n",
    "predicoes = np.asarray(predicoes.data)\n",
    "rotulos = np.asarray(rotulos.data)\n",
    "\n",
    "for i in range(np.asarray(rotulos.data).shape[0]):\n",
    "    acertos += predicoes[i][rotulos[i]]\n",
    "\n",
    "print(1-(N-round(acertos))/N)"
   ]
  },
  {
   "cell_type": "code",
   "execution_count": null,
   "id": "97befd90",
   "metadata": {},
   "outputs": [],
   "source": []
  },
  {
   "cell_type": "code",
   "execution_count": null,
   "id": "1528280f",
   "metadata": {},
   "outputs": [],
   "source": []
  }
 ],
 "metadata": {
  "kernelspec": {
   "display_name": "Python 3 (ipykernel)",
   "language": "python",
   "name": "python3"
  },
  "language_info": {
   "codemirror_mode": {
    "name": "ipython",
    "version": 3
   },
   "file_extension": ".py",
   "mimetype": "text/x-python",
   "name": "python",
   "nbconvert_exporter": "python",
   "pygments_lexer": "ipython3",
   "version": "3.10.4"
  }
 },
 "nbformat": 4,
 "nbformat_minor": 5
}
